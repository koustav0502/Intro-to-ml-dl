{
  "nbformat": 4,
  "nbformat_minor": 0,
  "metadata": {
    "colab": {
      "name": "Copy of Assignment1KP.ipynb",
      "provenance": [],
      "collapsed_sections": [],
      "include_colab_link": true
    },
    "kernelspec": {
      "name": "python3",
      "display_name": "Python 3"
    },
    "language_info": {
      "name": "python"
    }
  },
  "cells": [
    {
      "cell_type": "markdown",
      "metadata": {
        "id": "view-in-github",
        "colab_type": "text"
      },
      "source": [
        "<a href=\"https://colab.research.google.com/github/koustav0502/Intro-to-ml-dl/blob/main/Copy_of_Assignment1KP.ipynb\" target=\"_parent\"><img src=\"https://colab.research.google.com/assets/colab-badge.svg\" alt=\"Open In Colab\"/></a>"
      ]
    },
    {
      "cell_type": "markdown",
      "source": [
        "# Hello ! "
      ],
      "metadata": {
        "id": "DfJoXzxlSYZM"
      }
    },
    {
      "cell_type": "markdown",
      "source": [
        "### This is our first Assignment! Feel free to google !"
      ],
      "metadata": {
        "id": "nRsC4zkEScEE"
      }
    },
    {
      "cell_type": "markdown",
      "source": [
        "####1. New line New sentence"
      ],
      "metadata": {
        "id": "kJj715gSYdaT"
      }
    },
    {
      "cell_type": "code",
      "source": [
        "message =\"\"\"Lorem ipsum dolor sit amet. Est soluta mollitia ex nesciunt corporis in natus nisi? Aut saepe consequatur est aliquid itaque sed natus culpa et saepe ducimus et praesentium cumque non voluptatem quod. Ex officiis dolor ab exercitationem impedit et dolores laborum.\n",
        "\n",
        "Sit molestiae minus et itaque voluptatum sed minima laboriosam eos voluptate quod ab sapiente sint. Ut incidunt galisum est quia veritatis ex fugiat voluptas qui doloribus galisum.\n",
        "\n",
        "Est delectus totam ut accusantium doloribus non necessitatibus omnis nam ullam tenetur aut aliquid atque est porro voluptate! Ut maxime maiores id internos numquam cum tempora atque.\"\"\"\n",
        "\n",
        "\n",
        "\n",
        "\n",
        "\n",
        "\n",
        "# this is a way of writing multi-line strings in python, This is very helpful while documenting your project! read more about docstrings here - https://pandas.pydata.org/docs/development/contributing_docstring.html\n",
        "\n",
        "\n",
        "#above text is generated with the help of this website - https://www.loremipzum.com/en/text-generator\n",
        "\n"
      ],
      "metadata": {
        "id": "7NJ9BhFQSv7M"
      },
      "execution_count": null,
      "outputs": []
    },
    {
      "cell_type": "code",
      "source": [
        ""
      ],
      "metadata": {
        "id": "s9SBsevtUW-h"
      },
      "execution_count": null,
      "outputs": []
    },
    {
      "cell_type": "code",
      "source": [
        "\n",
        "# your task is to print every new statement in new line  \n",
        "# write your code in next block! ideal answer is provided here! "
      ],
      "metadata": {
        "id": "sVuQQrfAT3Pp",
        "colab": {
          "base_uri": "https://localhost:8080/"
        },
        "outputId": "344083b8-6a73-4b49-d760-1549b445710f"
      },
      "execution_count": null,
      "outputs": [
        {
          "output_type": "stream",
          "name": "stdout",
          "text": [
            "Lorem ipsum dolor sit amet.\n",
            "Est soluta mollitia ex nesciunt corporis in natus nisi? Aut saepe consequatur est aliquid itaque sed natus culpa et saepe ducimus et praesentium cumque non voluptatem quod.\n",
            "Ex officiis dolor ab exercitationem impedit et dolores laborum.\n",
            "Sit molestiae minus et itaque voluptatum sed minima laboriosam eos voluptate quod ab sapiente sint.\n",
            "Ut incidunt galisum est quia veritatis ex fugiat voluptas qui doloribus galisum.\n",
            "Est delectus totam ut accusantium doloribus non necessitatibus omnis nam ullam tenetur aut aliquid atque est porro voluptate! Ut maxime maiores id internos numquam cum tempora atque.\n"
          ]
        }
      ]
    },
    {
      "cell_type": "code",
      "source": [
        "#write your code here! "
      ],
      "metadata": {
        "id": "dTBrGYAOUU1h"
      },
      "execution_count": null,
      "outputs": []
    },
    {
      "cell_type": "code",
      "source": [
        "message =\"\"\"Lorem ipsum dolor sit amet. Est soluta mollitia ex nesciunt corporis in natus nisi? Aut saepe consequatur est aliquid itaque sed natus culpa et saepe ducimus et praesentium cumque non voluptatem quod. Ex officiis dolor ab exercitationem impedit et dolores laborum.\n",
        "\n",
        "Sit molestiae minus et itaque voluptatum sed minima laboriosam eos voluptate quod ab sapiente sint. Ut incidunt galisum est quia veritatis ex fugiat voluptas qui doloribus galisum.\n",
        "\n",
        "Est delectus totam ut accusantium doloribus non necessitatibus omnis nam ullam tenetur aut aliquid atque est porro voluptate! Ut maxime maiores id internos numquam cum tempora atque.\"\"\"\n",
        "\n",
        "print(message.replace(\". \",\".\\n\"))\n",
        "#or\n",
        "#split_message=message.split(\".\")\n",
        "#print(split_message)\n",
        "#for i in split_message:\n",
        "#  print(i,\".\\n\")\n",
        "  "
      ],
      "metadata": {
        "id": "NRM2B-XjXCBC",
        "colab": {
          "base_uri": "https://localhost:8080/"
        },
        "outputId": "a88aea4a-6a86-4c2d-a8e8-e611b631242a"
      },
      "execution_count": null,
      "outputs": [
        {
          "output_type": "stream",
          "name": "stdout",
          "text": [
            "Lorem ipsum dolor sit amet.\n",
            "Est soluta mollitia ex nesciunt corporis in natus nisi? Aut saepe consequatur est aliquid itaque sed natus culpa et saepe ducimus et praesentium cumque non voluptatem quod.\n",
            "Ex officiis dolor ab exercitationem impedit et dolores laborum.\n",
            "\n",
            "Sit molestiae minus et itaque voluptatum sed minima laboriosam eos voluptate quod ab sapiente sint.\n",
            "Ut incidunt galisum est quia veritatis ex fugiat voluptas qui doloribus galisum.\n",
            "\n",
            "Est delectus totam ut accusantium doloribus non necessitatibus omnis nam ullam tenetur aut aliquid atque est porro voluptate! Ut maxime maiores id internos numquam cum tempora atque.\n"
          ]
        }
      ]
    },
    {
      "cell_type": "markdown",
      "source": [
        "####2. Inputs from a file \n"
      ],
      "metadata": {
        "id": "yAG9Z-dMXTqn"
      }
    },
    {
      "cell_type": "markdown",
      "source": [
        "Suppose you are working for an email spamming company (we dont know much about the buiseness model of the company) and you are given a text file with names and email addresses \n",
        "\n",
        "What you have to do? - Create a mapping of name --> email, Basically a dictionary! \n",
        "\n"
      ],
      "metadata": {
        "id": "Xignt0POk4IN"
      }
    },
    {
      "cell_type": "markdown",
      "source": [
        "How will you find names in the given text file? names are enclosed between single quotes. Name and its corresponding email are in single line, so work with a single line at a time 😉"
      ],
      "metadata": {
        "id": "2b7jBhpOqRVo"
      }
    },
    {
      "cell_type": "code",
      "source": [
        "#####common FAQs - \n",
        "\n",
        "# How to load text file in google colab? - You can upload files to colab session - something like this - https://youtu.be/6HFlwqK3oeo?t=174\n",
        "# How to read read content in the text file with python - https://bit.ly/36FsRWC \n",
        "# if google doesnt give satisfactory answers to your questions; feel free to pm to any mentors\n",
        "\n",
        "\n",
        "#some more info about data \n",
        "# there are 995 lines in the text file; \n",
        "#format for a line is -  Name of the person is -- `<name>` You need to spam this email id - <email id>\n"
      ],
      "metadata": {
        "id": "hlp6r-cjrVcI"
      },
      "execution_count": null,
      "outputs": []
    },
    {
      "cell_type": "code",
      "source": [
        "#write your code here!.\n",
        "with open('data.txt') as f:\n",
        "  content=f.readlines()\n",
        "  #for i in content:\n",
        "  #  print(i)\n",
        "  bananas={}\n",
        "  for i in content:\n",
        "    splitt=i.split(\"`\")                          #https://www.geeksforgeeks.org/extract-string-from-between-quotations-python/\n",
        "    #print(splitt)                               #['Name of the person is -- ', 'Kenneth Gonzales', ' You need to spam this email id - kgonzalesr4@newyorker.com\\n']\n",
        "    #print(splitt[1])                            #Kenneth Gonzales\n",
        "    name=splitt[1]\n",
        "    emailsplit=splitt[-1].split(\"- \")                \n",
        "    #print(emailsplit)                                #[' You need to spam this email id ', 'kgonzalesr4@newyorker.com\\n']\n",
        "    #print(emailsplit[-1])                            #kgonzalesr4@newyorker.com\n",
        "    email=emailsplit[-1]\n",
        "    \n",
        "    bananas[name]=email\n",
        "    \n",
        "  print(bananas[\"Ronald Henderson\"])\n",
        "    \n",
        "  \n",
        "  \n",
        "\n",
        "                                                   \n"
      ],
      "metadata": {
        "id": "n2FfhzIs8bZN",
        "colab": {
          "base_uri": "https://localhost:8080/"
        },
        "outputId": "a61d8c3f-81b6-41c5-a8a2-7ce671b5a919"
      },
      "execution_count": 31,
      "outputs": [
        {
          "output_type": "stream",
          "name": "stdout",
          "text": [
            "rhenderson4@mediafire.com\n",
            "\n"
          ]
        }
      ]
    },
    {
      "cell_type": "markdown",
      "source": [
        "####3. Print a pattern"
      ],
      "metadata": {
        "id": "e6kZPGYKr5Zz"
      }
    },
    {
      "cell_type": "code",
      "source": [
        "# try printing this pattern \n",
        "#write code in the next cell\n",
        "# pro-tip === use   `nested for loops` "
      ],
      "metadata": {
        "colab": {
          "base_uri": "https://localhost:8080/"
        },
        "id": "qkyzwej0sLm6",
        "outputId": "321ea6e8-9bd9-4ed6-e377-220bac853314"
      },
      "execution_count": null,
      "outputs": [
        {
          "output_type": "stream",
          "name": "stdout",
          "text": [
            "* * * * * * * \n",
            "* * * * * * \n",
            "* * * * * \n",
            "* * * * \n",
            "* * * \n",
            "* * \n",
            "* \n"
          ]
        }
      ]
    },
    {
      "cell_type": "code",
      "source": [
        "#write code for above pattern here! \n",
        "for i in range(0,7):\n",
        "  for j in range(0,7-i):\n",
        "    print(\"*\", end=\" \")\n",
        "  print(\"\\r\")"
      ],
      "metadata": {
        "id": "wpj3x2NKsR_U",
        "colab": {
          "base_uri": "https://localhost:8080/"
        },
        "outputId": "4ae79959-7d3b-4bc8-e05d-806088bea14d"
      },
      "execution_count": null,
      "outputs": [
        {
          "output_type": "stream",
          "name": "stdout",
          "text": [
            "* * * * * * * \r\n",
            "* * * * * * \r\n",
            "* * * * * \r\n",
            "* * * * \r\n",
            "* * * \r\n",
            "* * \r\n",
            "* \r\n"
          ]
        }
      ]
    },
    {
      "cell_type": "code",
      "source": [
        "# try printing this pattern \n",
        "#write code in the next cell"
      ],
      "metadata": {
        "colab": {
          "base_uri": "https://localhost:8080/"
        },
        "id": "KXTpda4jsmwn",
        "outputId": "ee63e921-02b1-4429-fc04-8c57874544f1"
      },
      "execution_count": null,
      "outputs": [
        {
          "output_type": "stream",
          "name": "stdout",
          "text": [
            "\n",
            "* \n",
            "* * \n",
            "* * * \n",
            "* * * * \n",
            "* * * * * \n",
            "* * * * * * \n"
          ]
        }
      ]
    },
    {
      "cell_type": "code",
      "source": [
        "#write code for above pattern here! \n",
        "for i in range(0,6):\n",
        "  for j in range(0,i+1):\n",
        "    print(\"*\", end=\" \")\n",
        "  print(\"\\r\")"
      ],
      "metadata": {
        "id": "93JoXYgCs6kc",
        "colab": {
          "base_uri": "https://localhost:8080/"
        },
        "outputId": "39b06d82-49c9-4681-e39c-7891421816f2"
      },
      "execution_count": null,
      "outputs": [
        {
          "output_type": "stream",
          "name": "stdout",
          "text": [
            "* \r\n",
            "* * \r\n",
            "* * * \r\n",
            "* * * * \r\n",
            "* * * * * \r\n",
            "* * * * * * \r\n"
          ]
        }
      ]
    },
    {
      "cell_type": "code",
      "source": [
        ""
      ],
      "metadata": {
        "colab": {
          "base_uri": "https://localhost:8080/"
        },
        "id": "n7izMlmGtLDw",
        "outputId": "80eda4b9-b61f-4376-dcf9-0db8fefc4c69"
      },
      "execution_count": null,
      "outputs": [
        {
          "output_type": "stream",
          "name": "stdout",
          "text": [
            "\n",
            " \n",
            " * \n",
            " * ** \n",
            " * ** *** \n",
            " * ** *** **** \n",
            " * ** *** **** ***** \n"
          ]
        }
      ]
    },
    {
      "cell_type": "code",
      "source": [
        "for i in range(0,5):\n",
        "  for j in range(0, i+1):\n",
        "    print(end=\" \")\n",
        "    for k in range(0,j+1):\n",
        "      print(\"*\", end=\"\")\n",
        "  print(\"\\r\")"
      ],
      "metadata": {
        "id": "ntsQl-dbtiox",
        "colab": {
          "base_uri": "https://localhost:8080/"
        },
        "outputId": "1ca9be13-2614-4337-884c-deab34e69fa1"
      },
      "execution_count": null,
      "outputs": [
        {
          "output_type": "stream",
          "name": "stdout",
          "text": [
            " *\r\n",
            " * **\r\n",
            " * ** ***\r\n",
            " * ** *** ****\r\n",
            " * ** *** **** *****\r\n"
          ]
        }
      ]
    },
    {
      "cell_type": "markdown",
      "source": [
        "####4. Occurance of a number "
      ],
      "metadata": {
        "id": "GloSj8Dr2WBm"
      }
    },
    {
      "cell_type": "markdown",
      "source": [
        "There is a one list which contains different datatypes. Your task is to make a dictionary which keeps the record of how many times a integer has occured. \n",
        "\n",
        "for e.g. if the given list is like following - \n",
        "\n",
        "```\n",
        "[2,5,2,1,0,4,5,2.4,3.5,]\n",
        "```\n",
        "\n",
        "the expected dictionary is -\n",
        "```\n",
        "{0: 1, 1: 4, 2: 3, 5: 2} #we are not considering other datatypes, only integer datatypes are being considered for dictionary. \n",
        "```"
      ],
      "metadata": {
        "id": "Nb2dP34U2atS"
      }
    },
    {
      "cell_type": "code",
      "source": [
        "object_list = [True, False,\"bits pilani k k birla goa campus\",'A',  0,1,3, 23,1,0,5,30,123,2,9,2e-3,]"
      ],
      "metadata": {
        "id": "Q6Zzv1tp3Jjx"
      },
      "execution_count": null,
      "outputs": []
    },
    {
      "cell_type": "code",
      "source": [
        "#write your code here.\n",
        "ab={}\n",
        "for i in object_list:\n",
        "  if(isinstance(i,int)):\n",
        "    ab[i]=object_list.count(i)\n",
        "print(ab)"
      ],
      "metadata": {
        "id": "6Iu2QU0C4oBM",
        "colab": {
          "base_uri": "https://localhost:8080/"
        },
        "outputId": "9b276ad7-e5b0-4bc3-8914-f1aee141ac10"
      },
      "execution_count": null,
      "outputs": [
        {
          "output_type": "stream",
          "name": "stdout",
          "text": [
            "{True: 3, False: 3, 3: 1, 23: 1, 5: 1, 30: 1, 123: 1, 2: 1, 9: 1}\n"
          ]
        }
      ]
    },
    {
      "cell_type": "code",
      "source": [
        ""
      ],
      "metadata": {
        "id": "qFmPY5RB3MHN"
      },
      "execution_count": null,
      "outputs": []
    },
    {
      "cell_type": "code",
      "source": [
        ""
      ],
      "metadata": {
        "id": "zR7A17-v3TzR"
      },
      "execution_count": null,
      "outputs": []
    },
    {
      "cell_type": "code",
      "source": [
        ""
      ],
      "metadata": {
        "id": "cFbf3cDe3dT4"
      },
      "execution_count": null,
      "outputs": []
    }
  ]
}