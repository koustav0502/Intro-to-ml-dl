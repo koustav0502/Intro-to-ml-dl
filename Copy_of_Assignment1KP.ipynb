{
  "nbformat": 4,
  "nbformat_minor": 0,
  "metadata": {
    "colab": {
      "name": "Copy of Assignment1KP.ipynb",
      "provenance": [],
      "collapsed_sections": [],
      "include_colab_link": true
    },
    "kernelspec": {
      "name": "python3",
      "display_name": "Python 3"
    },
    "language_info": {
      "name": "python"
    }
  },
  "cells": [
    {
      "cell_type": "markdown",
      "metadata": {
        "id": "view-in-github",
        "colab_type": "text"
      },
      "source": [
        "<a href=\"https://colab.research.google.com/github/koustav0502/Intro-to-ml-dl/blob/main/Copy_of_Assignment1KP.ipynb\" target=\"_parent\"><img src=\"https://colab.research.google.com/assets/colab-badge.svg\" alt=\"Open In Colab\"/></a>"
      ]
    },
    {
      "cell_type": "markdown",
      "source": [
        "# Hello ! "
      ],
      "metadata": {
        "id": "DfJoXzxlSYZM"
      }
    },
    {
      "cell_type": "markdown",
      "source": [
        "### This is our first Assignment! Feel free to google !"
      ],
      "metadata": {
        "id": "nRsC4zkEScEE"
      }
    },
    {
      "cell_type": "markdown",
      "source": [
        "####1. New line New sentence"
      ],
      "metadata": {
        "id": "kJj715gSYdaT"
      }
    },
    {
      "cell_type": "code",
      "source": [
        "message =\"\"\"Lorem ipsum dolor sit amet. Est soluta mollitia ex nesciunt corporis in natus nisi? Aut saepe consequatur est aliquid itaque sed natus culpa et saepe ducimus et praesentium cumque non voluptatem quod. Ex officiis dolor ab exercitationem impedit et dolores laborum.\n",
        "\n",
        "Sit molestiae minus et itaque voluptatum sed minima laboriosam eos voluptate quod ab sapiente sint. Ut incidunt galisum est quia veritatis ex fugiat voluptas qui doloribus galisum.\n",
        "\n",
        "Est delectus totam ut accusantium doloribus non necessitatibus omnis nam ullam tenetur aut aliquid atque est porro voluptate! Ut maxime maiores id internos numquam cum tempora atque.\"\"\"\n",
        "\n",
        "\n",
        "\n",
        "\n",
        "\n",
        "\n",
        "# this is a way of writing multi-line strings in python, This is very helpful while documenting your project! read more about docstrings here - https://pandas.pydata.org/docs/development/contributing_docstring.html\n",
        "\n",
        "\n",
        "#above text is generated with the help of this website - https://www.loremipzum.com/en/text-generator\n",
        "\n"
      ],
      "metadata": {
        "id": "7NJ9BhFQSv7M"
      },
      "execution_count": null,
      "outputs": []
    },
    {
      "cell_type": "code",
      "source": [
        ""
      ],
      "metadata": {
        "id": "s9SBsevtUW-h"
      },
      "execution_count": null,
      "outputs": []
    },
    {
      "cell_type": "code",
      "source": [
        "\n",
        "# your task is to print every new statement in new line  \n",
        "# write your code in next block! ideal answer is provided here! "
      ],
      "metadata": {
        "id": "sVuQQrfAT3Pp",
        "colab": {
          "base_uri": "https://localhost:8080/"
        },
        "outputId": "344083b8-6a73-4b49-d760-1549b445710f"
      },
      "execution_count": null,
      "outputs": [
        {
          "output_type": "stream",
          "name": "stdout",
          "text": [
            "Lorem ipsum dolor sit amet.\n",
            "Est soluta mollitia ex nesciunt corporis in natus nisi? Aut saepe consequatur est aliquid itaque sed natus culpa et saepe ducimus et praesentium cumque non voluptatem quod.\n",
            "Ex officiis dolor ab exercitationem impedit et dolores laborum.\n",
            "Sit molestiae minus et itaque voluptatum sed minima laboriosam eos voluptate quod ab sapiente sint.\n",
            "Ut incidunt galisum est quia veritatis ex fugiat voluptas qui doloribus galisum.\n",
            "Est delectus totam ut accusantium doloribus non necessitatibus omnis nam ullam tenetur aut aliquid atque est porro voluptate! Ut maxime maiores id internos numquam cum tempora atque.\n"
          ]
        }
      ]
    },
    {
      "cell_type": "code",
      "source": [
        "#write your code here! "
      ],
      "metadata": {
        "id": "dTBrGYAOUU1h"
      },
      "execution_count": null,
      "outputs": []
    },
    {
      "cell_type": "code",
      "source": [
        "message =\"\"\"Lorem ipsum dolor sit amet. Est soluta mollitia ex nesciunt corporis in natus nisi? Aut saepe consequatur est aliquid itaque sed natus culpa et saepe ducimus et praesentium cumque non voluptatem quod. Ex officiis dolor ab exercitationem impedit et dolores laborum.\n",
        "\n",
        "Sit molestiae minus et itaque voluptatum sed minima laboriosam eos voluptate quod ab sapiente sint. Ut incidunt galisum est quia veritatis ex fugiat voluptas qui doloribus galisum.\n",
        "\n",
        "Est delectus totam ut accusantium doloribus non necessitatibus omnis nam ullam tenetur aut aliquid atque est porro voluptate! Ut maxime maiores id internos numquam cum tempora atque.\"\"\"\n",
        "\n",
        "print(message.replace(\". \",\".\\n\"))\n",
        "#or\n",
        "#split_message=message.split(\".\")\n",
        "#print(split_message)\n",
        "#for i in split_message:\n",
        "#  print(i,\".\\n\")\n",
        "  "
      ],
      "metadata": {
        "id": "NRM2B-XjXCBC",
        "colab": {
          "base_uri": "https://localhost:8080/"
        },
        "outputId": "a88aea4a-6a86-4c2d-a8e8-e611b631242a"
      },
      "execution_count": null,
      "outputs": [
        {
          "output_type": "stream",
          "name": "stdout",
          "text": [
            "Lorem ipsum dolor sit amet.\n",
            "Est soluta mollitia ex nesciunt corporis in natus nisi? Aut saepe consequatur est aliquid itaque sed natus culpa et saepe ducimus et praesentium cumque non voluptatem quod.\n",
            "Ex officiis dolor ab exercitationem impedit et dolores laborum.\n",
            "\n",
            "Sit molestiae minus et itaque voluptatum sed minima laboriosam eos voluptate quod ab sapiente sint.\n",
            "Ut incidunt galisum est quia veritatis ex fugiat voluptas qui doloribus galisum.\n",
            "\n",
            "Est delectus totam ut accusantium doloribus non necessitatibus omnis nam ullam tenetur aut aliquid atque est porro voluptate! Ut maxime maiores id internos numquam cum tempora atque.\n"
          ]
        }
      ]
    },
    {
      "cell_type": "markdown",
      "source": [
        "####2. Inputs from a file \n"
      ],
      "metadata": {
        "id": "yAG9Z-dMXTqn"
      }
    },
    {
      "cell_type": "markdown",
      "source": [
        "Suppose you are working for an email spamming company (we dont know much about the buiseness model of the company) and you are given a text file with names and email addresses \n",
        "\n",
        "What you have to do? - Create a mapping of name --> email, Basically a dictionary! \n",
        "\n"
      ],
      "metadata": {
        "id": "Xignt0POk4IN"
      }
    },
    {
      "cell_type": "markdown",
      "source": [
        "How will you find names in the given text file? names are enclosed between single quotes. Name and its corresponding email are in single line, so work with a single line at a time 😉"
      ],
      "metadata": {
        "id": "2b7jBhpOqRVo"
      }
    },
    {
      "cell_type": "code",
      "source": [
        "#####common FAQs - \n",
        "\n",
        "# How to load text file in google colab? - You can upload files to colab session - something like this - https://youtu.be/6HFlwqK3oeo?t=174\n",
        "# How to read read content in the text file with python - https://bit.ly/36FsRWC \n",
        "# if google doesnt give satisfactory answers to your questions; feel free to pm to any mentors\n",
        "\n",
        "\n",
        "#some more info about data \n",
        "# there are 995 lines in the text file; \n",
        "#format for a line is -  Name of the person is -- `<name>` You need to spam this email id - <email id>\n"
      ],
      "metadata": {
        "id": "hlp6r-cjrVcI"
      },
      "execution_count": null,
      "outputs": []
    },
    {
      "cell_type": "code",
      "source": [
        "#write your code here!.\n",
        "with open('data.txt') as f:\n",
        "  content=f.readlines()\n",
        "  #for i in content:\n",
        "  #  print(i)\n",
        "  bananas={}\n",
        "  for i in content:\n",
        "    splitt=i.split(\"`\")                          #https://www.geeksforgeeks.org/extract-string-from-between-quotations-python/\n",
        "    #print(splitt)                               #['Name of the person is -- ', 'Kenneth Gonzales', ' You need to spam this email id - kgonzalesr4@newyorker.com\\n']\n",
        "    #print(splitt[1])                            #Kenneth Gonzales\n",
        "    name=splitt[1]\n",
        "    emailsplit=splitt[-1].split(\"- \")                \n",
        "    #print(emailsplit)                                #[' You need to spam this email id ', 'kgonzalesr4@newyorker.com\\n']\n",
        "    #print(emailsplit[-1])                            #kgonzalesr4@newyorker.com\n",
        "    email=emailsplit[-1]\n",
        "    \n",
        "    bananas[name]=email\n",
        "    \n",
        "  print(bananas)\n",
        "  print(bananas[\"Ronald Henderson\"])\n",
        "    \n",
        "  \n",
        "  \n",
        "\n",
        "                                                   \n"
      ],
      "metadata": {
        "id": "n2FfhzIs8bZN",
        "colab": {
          "base_uri": "https://localhost:8080/"
        },
        "outputId": "4f126c49-34d8-4466-f58a-718c0e26795a"
      },
      "execution_count": null,
      "outputs": [
        {
          "output_type": "stream",
          "name": "stdout",
          "text": [
            "{'Ronald Henderson': 'rhenderson4@mediafire.com\\n', 'Irene Hill': 'ihill5@ucla.edu\\n', 'Jessica Peters': 'jpeters6@slideshare.net\\n', 'Lori Banks': 'lbanks7@nih.gov\\n', 'Alice Taylor': 'ataylor8@huffingtonpost.com\\n', 'Martin Richardson': 'mrichardson9@jugem.jp\\n', 'Frances Fisher': 'ffishera@rediff.com\\n', 'Carlos Cole': 'ccoleb@go.com\\n', 'Joan Payne': 'jpaynec@bloglovin.com\\n', 'Diane Woods': 'dwoodsd@canalblog.com\\n', 'Gerald Lawson': 'glawsone@yolasite.com\\n', 'Kimberly Payne': 'kpaynef@mit.edu\\n', 'Susan Miller': 'smillerg@foxnews.com\\n', 'Karen Evans': 'kevansh@huffingtonpost.com\\n', 'Kimberly Mendoza': 'kmendozai@w3.org\\n', 'Shirley Larson': 'slarsonj@amazon.com\\n', 'Rose Roberts': 'rrobertsk@phoca.cz\\n', 'Mark Holmes': 'mholmesl@ovh.net\\n', 'Martin Ortiz': 'mortizm@foxnews.com\\n', 'Debra Walker': 'dwalkern@mayoclinic.com\\n', 'Daniel Henderson': 'dhendersono@reddit.com\\n', 'Evelyn Willis': 'ewillisp@bbc.co.uk\\n', 'Steve Morrison': 'smorrisonq@dailymail.co.uk\\n', 'Jacqueline Turner': 'jturnerr@weebly.com\\n', 'Diane Knight': 'dknights@nytimes.com\\n', 'Wanda Palmer': 'wpalmert@youtube.com\\n', 'Shirley Evans': 'sevansu@1und1.de\\n', 'Robert Schmidt': 'rschmidtv@intel.com\\n', 'Timothy Schmidt': 'tschmidtw@yahoo.co.jp\\n', 'Andrea Cunningham': 'acunninghamx@jimdo.com\\n', 'Ronald Fields': 'rfieldsy@cnn.com\\n', 'Kimberly Dixon': 'kdixonz@census.gov\\n', 'Howard Rose': 'hrose10@addthis.com\\n', 'Martin Andrews': 'mandrews11@gnu.org\\n', 'Charles Meyer': 'cmeyer12@si.edu\\n', 'Ruth Lee': 'rlee13@aol.com\\n', 'Charles Pierce': 'cpierce14@ucsd.edu\\n', 'Joe Wright': 'jwright15@craigslist.org\\n', 'Todd Pierce': 'tpierce16@independent.co.uk\\n', 'Gerald Reyes': 'greyes17@rediff.com\\n', 'Dennis Lewis': 'dlewis18@netvibes.com\\n', 'Judy Lawson': 'jlawson19@auda.org.au\\n', 'Sandra Montgomery': 'smontgomery1a@webs.com\\n', 'Dennis Sims': 'dsims1b@reddit.com\\n', 'Dorothy Gardner': 'dgardner1c@unblog.fr\\n', 'Sharon Ellis': 'sellis1d@histats.com\\n', 'Philip Perkins': 'pperkins1e@hubpages.com\\n', 'Diane Fox': 'dfox1f@umn.edu\\n', 'Angela Perkins': 'aperkins1g@wikispaces.com\\n', 'Philip Thompson': 'pthompson1h@psu.edu\\n', 'Paul Tucker': 'ptucker1i@wisc.edu\\n', 'Emily Hughes': 'ehughes1j@abc.net.au\\n', 'Alice Chapman': 'achapman1k@cmu.edu\\n', 'Victor Bennett': 'vbennett1l@pagesperso-orange.fr\\n', 'John Cruz': 'jcruz1m@digg.com\\n', 'Earl Howell': 'ehowell1n@usnews.com\\n', 'Howard Reyes': 'hreyes1o@wordpress.com\\n', 'Lois Fox': 'lfox1p@sogou.com\\n', 'Fred Meyer': 'fmeyer1q@istockphoto.com\\n', 'Michelle Bryant': 'mbryant1r@ezinearticles.com\\n', 'Shawn Cole': 'scole1s@mysql.com\\n', 'Jennifer Parker': 'jparker1t@admin.ch\\n', 'Dennis Henderson': 'dhenderson1u@amazonaws.com\\n', 'Gary Ryan': 'gryan1v@biblegateway.com\\n', 'Donna Lee': 'dlee1w@indiegogo.com\\n', 'Ernest Harvey': 'eharvey1x@unesco.org\\n', 'Denise Austin': 'daustin1y@mit.edu\\n', 'Tina Schmidt': 'tschmidt1z@slashdot.org\\n', 'Russell Woods': 'rwoods20@yandex.ru\\n', 'Deborah Allen': 'dallen21@rakuten.co.jp\\n', 'Norma Harrison': 'nharrison22@hatena.ne.jp\\n', 'Gary Day': 'gday23@gravatar.com\\n', 'Steve West': 'swest24@clickbank.net\\n', 'Margaret Shaw': 'mshaw25@dropbox.com\\n', 'Gregory Harvey': 'gharvey26@behance.net\\n', 'Bonnie Thompson': 'bthompson27@arstechnica.com\\n', 'Sean Owens': 'sowens8o@europa.eu\\n', 'Kevin Frazier': 'kfrazier29@dailymotion.com\\n', 'Jeremy Murphy': 'jmurphy2a@tamu.edu\\n', 'Janet Wood': 'jwood2b@oakley.com\\n', 'Bonnie Gonzalez': 'bgonzalez2c@angelfire.com\\n', 'Ryan Harrison': 'rharrison2d@miibeian.gov.cn\\n', 'Scott Hawkins': 'shawkins2e@chicagotribune.com\\n', 'Aaron George': 'ageorge2f@mapquest.com\\n', 'Todd Ryan': 'tryan2g@google.ca\\n', 'Anthony Powell': 'apowell2h@ucsd.edu\\n', 'Christina Fields': 'cfields2i@wisc.edu\\n', 'Ronald Wheeler': 'rwheeler2j@nydailynews.com\\n', 'Mildred Sanchez': 'msanchez2k@berkeley.edu\\n', 'Nicholas Hughes': 'nhughes2l@disqus.com\\n', 'Harry Black': 'hblack2m@oracle.com\\n', 'Wayne Torres': 'wtorres2n@ucoz.com\\n', 'Robert Hunt': 'rhunt2o@unesco.org\\n', 'Sarah Mills': 'smills2p@wikispaces.com\\n', 'Bobby Taylor': 'btaylor2q@mozilla.com\\n', 'Justin Gordon': 'jgordon2r@msu.edu\\n', 'Theresa Wood': 'twood2s@storify.com\\n', 'Larry Gilbert': 'lgilbert2t@jugem.jp\\n', 'Mildred Graham': 'mgraham2u@smh.com.au\\n', 'Juan Henry': 'jhenry2v@indiatimes.com\\n', 'Walter Chavez': 'wchavez2w@tiny.cc\\n', 'Joan Tucker': 'jtucker2x@merriam-webster.com\\n', 'Daniel Flores': 'dflores2y@meetup.com\\n', 'Willie Thompson': 'wthompson2z@goo.gl\\n', 'Nicole Long': 'nlong30@addthis.com\\n', 'Raymond Barnes': 'rbarnes31@whitehouse.gov\\n', 'Judith Mason': 'jmason32@pbs.org\\n', 'Matthew Fox': 'mfox33@mail.ru\\n', 'Joan Andrews': 'jandrews34@dot.gov\\n', 'Helen Nguyen': 'hnguyen35@domainmarket.com\\n', 'Ruby Morgan': 'rmorganjo@umn.edu\\n', 'Carolyn Elliott': 'celliott37@topsy.com\\n', 'Shawn Wheeler': 'swheeler38@nature.com\\n', 'Jean Simpson': 'jsimpson39@odnoklassniki.ru\\n', 'Andrea Ortiz': 'aortiz3a@google.co.uk\\n', 'Jose Medina': 'jmedina3b@tamu.edu\\n', 'Lori Palmer': 'lpalmer3c@samsung.com\\n', 'Diane Reed': 'dreed3d@delicious.com\\n', 'Marilyn Boyd': 'mboyd3e@nydailynews.com\\n', 'Jerry Fields': 'jfields3f@smugmug.com\\n', 'Judy Ryan': 'jryan3g@blogtalkradio.com\\n', 'Joseph Fernandez': 'jfernandez3h@npr.org\\n', 'Rose Griffin': 'rgriffin3i@abc.net.au\\n', 'Larry Marshall': 'lmarshall3j@qq.com\\n', 'Gerald Miller': 'gmiller3k@marriott.com\\n', 'Jesse Brooks': 'jbrooks3l@cyberchimps.com\\n', 'Carolyn Hamilton': 'chamilton3m@cafepress.com\\n', 'Margaret Mitchell': 'mmitchell3n@dailymail.co.uk\\n', 'Maria Smith': 'msmith3o@mtv.com\\n', 'Harry Shaw': 'hshaw3p@mysql.com\\n', 'Anna Harrison': 'aharrison3q@hao123.com\\n', 'Betty Tucker': 'btucker3r@w3.org\\n', 'Christine Gomez': 'cgomez3s@cmu.edu\\n', 'Antonio Morrison': 'amorrison3t@amazon.com\\n', 'Howard Hunter': 'hhunter3u@livejournal.com\\n', 'Kathryn Harper': 'kharper3v@hhs.gov\\n', 'Laura Foster': 'lfoster3w@cloudflare.com\\n', 'Ashley Watson': 'awatson3x@timesonline.co.uk\\n', 'Christina Burton': 'cburton3y@miibeian.gov.cn\\n', 'Diana Walker': 'dwalker3z@nymag.com\\n', 'Cynthia Chapman': 'cchapman40@usa.gov\\n', 'Linda Hart': 'lhart41@spotify.com\\n', 'Jeremy Sanchez': 'jsanchez42@naver.com\\n', 'Margaret Fox': 'mfox43@elegantthemes.com\\n', 'Donald Stone': 'dstone44@cloudflare.com\\n', 'Cynthia Howell': 'chowell45@networksolutions.com\\n', 'Mark Moore': 'mmoore46@tinypic.com\\n', 'Willie Johnston': 'wjohnston47@is.gd\\n', 'Jack Knight': 'jknight48@usatoday.com\\n', 'Raymond Watson': 'rwatson49@liveinternet.ru\\n', 'Jesse Ford': 'jford4a@admin.ch\\n', 'Michael Ellis': 'mellis4b@arizona.edu\\n', 'Sara Cooper': 'scooper4c@blinklist.com\\n', 'Carl Sims': 'csims4d@amazon.com\\n', 'Jessica Vasquez': 'jvasquez4e@mashable.com\\n', 'Betty Williamson': 'bwilliamson4f@prnewswire.com\\n', 'John Morrison': 'jmorrison4g@state.gov\\n', 'Teresa Watkins': 'twatkins4h@spiegel.de\\n', 'Kevin Simmons': 'ksimmons4i@jiathis.com\\n', 'Margaret Chavez': 'mchavezb7@clickbank.net\\n', 'Thomas Reed': 'treed4k@wiley.com\\n', 'Jesse Payne': 'jpayne4l@mysql.com\\n', 'Cynthia Carroll': 'ccarroll4m@marketwatch.com\\n', 'Ann Russell': 'arussell4n@psu.edu\\n', 'Jason Hamilton': 'jhamilton4o@domainmarket.com\\n', 'Frank Kelly': 'fkelly4p@skype.com\\n', 'Jonathan Lawson': 'jlawson4q@tamu.edu\\n', 'Frances Knight': 'fknight4r@disqus.com\\n', 'Judy Coleman': 'jcoleman4s@google.de\\n', 'Johnny King': 'jking4t@theglobeandmail.com\\n', 'Jean Rivera': 'jrivera4u@deviantart.com\\n', 'Phillip Lawson': 'plawson4v@storify.com\\n', 'Catherine Coleman': 'ccoleman4w@dailymail.co.uk\\n', 'Eugene Rivera': 'erivera4x@nydailynews.com\\n', 'Sharon Gonzalez': 'sgonzalez4y@disqus.com\\n', 'Bonnie Miller': 'bmiller4z@bluehost.com\\n', 'Shirley Gomez': 'sgomez50@last.fm\\n', 'Dennis Simpson': 'dsimpson51@google.co.uk\\n', 'Stephanie Schmidt': 'sschmidt52@storify.com\\n', 'Brandon Larson': 'blarson53@va.gov\\n', 'Diana Myers': 'dmyers54@ucoz.ru\\n', 'Donna Stevens': 'dstevens55@cisco.com\\n', 'Kathleen Gutierrez': 'kgutierrez56@yahoo.com\\n', 'Brenda Fernandez': 'bfernandez57@marketwatch.com\\n', 'Jacqueline Perez': 'jperez58@house.gov\\n', 'Todd Shaw': 'tshaw59@hud.gov\\n', 'Craig Bradley': 'cbradley5a@cnet.com\\n', 'Marie Patterson': 'mpatterson5b@stanford.edu\\n', 'Janice Ryan': 'jryan5c@imgur.com\\n', 'Kevin Coleman': 'kcoleman5d@freewebs.com\\n', 'Philip Gibson': 'pgibson5e@bigcartel.com\\n', 'Beverly Fields': 'bfields5f@histats.com\\n', 'Annie Carroll': 'acarroll5g@plala.or.jp\\n', 'Judy Nelson': 'jnelson5h@wiley.com\\n', 'Marilyn Watkins': 'mwatkins5i@webs.com\\n', 'David Williams': 'dwilliams5j@bing.com\\n', 'Susan Ramos': 'sramos5k@phpbb.com\\n', 'Judith Richards': 'jrichards5l@github.io\\n', 'Fred Fisher': 'ffisher5m@rediff.com\\n', 'Elizabeth Mason': 'emason5n@jimdo.com\\n', 'Angela James': 'ajames5o@paypal.com\\n', 'Cynthia Berry': 'cberry5p@oaic.gov.au\\n', 'Cheryl Murray': 'cmurray5q@scribd.com\\n', 'Pamela Schmidt': 'pschmidt5r@scientificamerican.com\\n', 'Henry Willis': 'hwillis5s@state.tx.us\\n', 'Ashley Brooks': 'abrooks5t@dedecms.com\\n', 'Donna Morgan': 'dmorgan5u@free.fr\\n', 'Catherine Bowman': 'cbowman5v@amazon.com\\n', 'Earl Kennedy': 'ekennedy5w@4shared.com\\n', 'Howard Murray': 'hmurray5x@irs.gov\\n', 'Carlos Hamilton': 'chamilton5y@opera.com\\n', 'Ruth Mitchell': 'rmitchell5z@ebay.co.uk\\n', 'Juan Wallace': 'jwallace60@samsung.com\\n', 'Richard Wilson': 'rwilson61@fc2.com\\n', 'Denise Olson': 'dolson62@reuters.com\\n', 'Steve Willis': 'swillis63@ted.com\\n', 'Andrea Oliver': 'aoliver64@goo.gl\\n', 'Martin Franklin': 'mfranklin65@squarespace.com\\n', 'Dennis Moore': 'dmoore66@opensource.org\\n', 'Susan White': 'swhite67@fc2.com\\n', 'Ruth Ramos': 'rramos68@scribd.com\\n', 'Chris Daniels': 'cdaniels69@foxnews.com\\n', 'Russell Ryan': 'rryan6a@yolasite.com\\n', 'Melissa Thompson': 'mthompson6b@oracle.com\\n', 'Earl Lee': 'elee6c@theguardian.com\\n', 'Carlos Pierce': 'cpierce6d@i2i.jp\\n', 'Jonathan Lawrence': 'jlawrence6e@pcworld.com\\n', 'Larry Oliver': 'loliver6f@jugem.jp\\n', 'Kathy Cruz': 'kcruz6g@state.tx.us\\n', 'Bonnie Stone': 'bstone6h@opera.com\\n', 'Diane Kelley': 'dkelley6i@discuz.net\\n', 'Christina Brown': 'cbrown6j@google.ca\\n', 'Bruce Sanchez': 'bsanchez6k@umn.edu\\n', 'Katherine Cox': 'kcox6l@yahoo.com\\n', 'Patricia Freeman': 'pfreeman6m@gov.uk\\n', 'Antonio Henry': 'ahenry6n@slate.com\\n', 'Christopher Henderson': 'chenderson6o@nba.com\\n', 'Sandra Woods': 'swoods6p@chron.com\\n', 'Emily Torres': 'etorres6q@whitehouse.gov\\n', 'Steven Stanley': 'sstanley6r@yale.edu\\n', 'Christina Arnold': 'carnold6s@yahoo.com\\n', 'Kevin Welch': 'kwelch6t@epa.gov\\n', 'Maria Jacobs': 'mjacobs6u@themeforest.net\\n', 'Gloria Freeman': 'gfreeman6v@hugedomains.com\\n', 'Russell Gordon': 'rgordon6w@cbslocal.com\\n', 'Pamela Carter': 'pcarter6x@utexas.edu\\n', 'Roy Alvarez': 'ralvarez6y@home.pl\\n', 'Michelle Williamson': 'mwilliamson6z@istockphoto.com\\n', 'Anthony Hernandez': 'ahernandez70@simplemachines.org\\n', 'Andrew Adams': 'aadams71@mlb.com\\n', 'Jacqueline Medina': 'jmedina72@salon.com\\n', 'Martin Reid': 'mreid73@ox.ac.uk\\n', 'Sarah Palmer': 'spalmer74@istockphoto.com\\n', 'Dennis Olson': 'dolson75@newyorker.com\\n', 'Amanda Fowler': 'afowler76@forbes.com\\n', 'Chris Perez': 'cperez77@si.edu\\n', 'Phyllis Gonzalez': 'pgonzalez78@sina.com.cn\\n', 'Gerald Anderson': 'ganderson79@hugedomains.com\\n', 'Tammy Peterson': 'tpeterson7a@fda.gov\\n', 'Stephanie Diaz': 'sdiaz7b@si.edu\\n', 'Edward Burton': 'eburton7c@instagram.com\\n', 'James Rodriguez': 'jrodriguez7d@linkedin.com\\n', 'Earl Crawford': 'ecrawford7e@ed.gov\\n', 'Willie Kim': 'wkim7f@netscape.com\\n', 'Charles Harris': 'charris7g@comsenz.com\\n', 'John Mills': 'jmills7h@ehow.com\\n', 'Jacqueline Wheeler': 'jwheeler7i@scientificamerican.com\\n', 'Fred Sims': 'fsims7j@delicious.com\\n', 'Rebecca Garza': 'rgarza7k@elpais.com\\n', 'Jimmy Palmer': 'jpalmer7l@pbs.org\\n', 'Todd Olson': 'tolson7m@amazon.co.jp\\n', 'Martha Elliott': 'melliott7n@fda.gov\\n', 'Elizabeth Morgan': 'emorgan7o@free.fr\\n', 'Paul Parker': 'pparker7p@usda.gov\\n', 'Diana Sanders': 'dsanders7q@constantcontact.com\\n', 'Debra Bell': 'dbell7r@mediafire.com\\n', 'Carlos Wood': 'cwood7s@jugem.jp\\n', 'Jesse Bradley': 'jbradley7t@1688.com\\n', 'Maria Vasquez': 'mvasquezpy@nyu.edu\\n', 'Jack Bell': 'jbell7v@telegraph.co.uk\\n', 'Rachel Powell': 'rpowell7w@squidoo.com\\n', 'Laura Anderson': 'landerson7x@1und1.de\\n', 'Julia Willis': 'jwillis7y@google.fr\\n', 'Tammy Castillo': 'tcastillo7z@etsy.com\\n', 'Nicholas Taylor': 'ntaylor80@youtu.be\\n', 'Annie Lane': 'alane81@addtoany.com\\n', 'Melissa Watson': 'mwatson82@unblog.fr\\n', 'Diana Berry': 'dberry83@omniture.com\\n', 'Jack Thomas': 'jthomas84@vkontakte.ru\\n', 'Phyllis Kennedy': 'pkennedy85@freewebs.com\\n', 'Paul Elliott': 'pelliott86@multiply.com\\n', 'Larry Nelson': 'lnelson87@unc.edu\\n', 'Christine Wallace': 'cwallace88@soundcloud.com\\n', 'Andrew Austin': 'aaustin89@upenn.edu\\n', 'Henry Holmes': 'hholmes8a@comcast.net\\n', 'Mary Murphy': 'mmurphy8b@bloglines.com\\n', 'Cynthia Medina': 'cmedina8c@nature.com\\n', 'Marie Davis': 'mdavis8d@tuttocitta.it\\n', 'Deborah Olson': 'dolson8e@creativecommons.org\\n', 'Paul Reyes': 'preyes8f@aol.com\\n', 'Jean Brooks': 'jbrooks8g@shutterfly.com\\n', 'Jacqueline Stephens': 'jstephens8h@123-reg.co.uk\\n', 'Gary Richardson': 'grichardson8i@amazon.de\\n', 'Kathryn Sanchez': 'ksanchez8j@aol.com\\n', 'Pamela Hall': 'phall8k@geocities.jp\\n', 'Harold Bishop': 'hbishopde@cbc.ca\\n', 'Charles Kelly': 'ckelly8m@ihg.com\\n', 'Jeremy Reid': 'jreid8n@meetup.com\\n', 'Annie Greene': 'agreene8p@reuters.com\\n', 'Annie Williams': 'awilliamscg@stanford.edu\\n', 'Evelyn George': 'egeorge8r@soup.io\\n', 'Carlos Frazier': 'cfrazier8s@guardian.co.uk\\n', 'Joshua Smith': 'jsmith8t@wsj.com\\n', 'Irene Perez': 'iperez8u@bloomberg.com\\n', 'Judith Simpson': 'jsimpson8v@infoseek.co.jp\\n', 'Theresa Cole': 'tcole8w@amazonaws.com\\n', 'Ashley Campbell': 'acampbell8x@friendfeed.com\\n', 'Dorothy Wheeler': 'dwheelera5@time.com\\n', 'Rachel Cook': 'rcook8z@paginegialle.it\\n', 'Nicholas Mitchell': 'nmitchell90@tinypic.com\\n', 'Jose Fuller': 'jfuller91@xinhuanet.com\\n', 'Mark Boyd': 'mboyd92@oakley.com\\n', 'Denise Ward': 'dward93@hc360.com\\n', 'Keith Lane': 'klane94@histats.com\\n', 'Frank Lopez': 'flopez95@fda.gov\\n', 'Wayne Boyd': 'wboyd96@china.com.cn\\n', 'Louis Stanley': 'lstanley97@auda.org.au\\n', 'Joan Bennett': 'jbennett98@kickstarter.com\\n', 'Johnny Wallace': 'jwallace99@pen.io\\n', 'Paul Day': 'pday9a@google.ru\\n', 'Sharon Arnold': 'sarnold9b@lycos.com\\n', 'David Reyes': 'dreyes9c@tinypic.com\\n', 'Amy Smith': 'asmith9d@ifeng.com\\n', 'Mildred Woods': 'mwoods9e@cornell.edu\\n', 'Mildred Harvey': 'mharvey9f@gmpg.org\\n', 'Kathleen Wells': 'kwells9g@dell.com\\n', 'Nicholas Dunn': 'ndunn9h@nih.gov\\n', 'Ruth Martin': 'rmartin9i@marriott.com\\n', 'Teresa Powell': 'tpowell9j@microsoft.com\\n', 'Steven Carpenter': 'scarpenter9k@imgur.com\\n', 'Justin Fisher': 'jfisher9l@narod.ru\\n', 'Ralph Carr': 'rcarr9m@linkedin.com\\n', 'Beverly Diaz': 'bdiaz9n@ted.com\\n', 'Nancy Henderson': 'nhenderson9o@ask.com\\n', 'Steven Rivera': 'srivera9p@1und1.de\\n', 'Bobby Alvarez': 'balvarez9q@webnode.com\\n', 'Craig Wright': 'cwright9r@answers.com\\n', 'Steve Henderson': 'shenderson9s@theguardian.com\\n', 'Steve Cooper': 'scooper9t@sbwire.com\\n', 'Joyce Myers': 'jmyers9u@theatlantic.com\\n', 'Ryan Clark': 'rclark9v@zimbio.com\\n', 'Ronald Taylor': 'rtaylor9w@e-recht24.de\\n', 'Amy Ferguson': 'aferguson9x@mayoclinic.com\\n', 'Jonathan Carter': 'jcarter9y@archive.org\\n', 'Paul Crawford': 'pcrawford9z@infoseek.co.jp\\n', 'Dennis Brown': 'dbrowna0@macromedia.com\\n', 'Ann Hawkins': 'ahawkinsa1@theglobeandmail.com\\n', 'Catherine Black': 'cblacka2@meetup.com\\n', 'Alan Stewart': 'astewarta3@infoseek.co.jp\\n', 'Ralph Jenkins': 'rjenkinsa4@mediafire.com\\n', 'Ronald White': 'rwhitea6@reverbnation.com\\n', 'Phyllis Graham': 'pgrahama7@microsoft.com\\n', 'Jesse Armstrong': 'jarmstronga8@time.com\\n', 'Denise Collins': 'dcollinsa9@wiley.com\\n', 'Paul Cunningham': 'pcunninghamaa@dagondesign.com\\n', 'Martin Bryant': 'mbryantab@japanpost.jp\\n', 'Joe Gomez': 'jgomezac@ucoz.com\\n', 'Helen Gardner': 'hgardnerad@indiegogo.com\\n', 'Peter Owens': 'powensae@who.int\\n', 'Anthony Robinson': 'arobinsonaf@jugem.jp\\n', 'Judy Wells': 'jwellsag@jigsy.com\\n', 'Carl Kennedy': 'ckennedyah@vk.com\\n', 'Albert Hicks': 'ahicksai@feedburner.com\\n', 'Doris Burns': 'dburnsaj@boston.com\\n', 'Frank Cox': 'fcoxak@ucla.edu\\n', 'Deborah Lane': 'dlaneal@cargocollective.com\\n', 'Bruce Garza': 'bgarzaam@adobe.com\\n', 'Judith Simmons': 'jsimmonsan@nasa.gov\\n', 'Brandon Reed': 'breedao@answers.com\\n', 'Annie Moore': 'amooreap@dion.ne.jp\\n', 'Lois Gilbert': 'lgilbertaq@ft.com\\n', 'Doris Lynch': 'dlynchar@arstechnica.com\\n', 'Victor Harrison': 'vharrisonas@sakura.ne.jp\\n', 'Jane Perry': 'jperryat@ucla.edu\\n', 'Adam Price': 'apriceau@miitbeian.gov.cn\\n', 'Gloria Walker': 'gwalkerav@thetimes.co.uk\\n', 'Debra Mcdonald': 'dmcdonaldaw@blogspot.com\\n', 'Carol Sanders': 'csandersax@sbwire.com\\n', 'Virginia Stephens': 'vstephensay@earthlink.net\\n', 'Shawn Perry': 'sperryaz@blinklist.com\\n', 'Diane Williams': 'dwilliamsb0@examiner.com\\n', 'Raymond Gilbert': 'rgilbertb1@theatlantic.com\\n', 'Janice Burns': 'jburnsb2@nba.com\\n', 'Benjamin Daniels': 'bdanielsb3@phpbb.com\\n', 'Dorothy Griffin': 'dgriffinb4@zdnet.com\\n', 'Alice Little': 'alittleb5@last.fm\\n', 'Fred Medina': 'fmedinab6@xing.com\\n', 'Judith Bryant': 'jbryantb8@youtu.be\\n', 'Deborah Wells': 'dwellsb9@businessweek.com\\n', 'Johnny Peters': 'jpetersba@youtube.com\\n', 'Kathleen Hunt': 'khuntbb@usa.gov\\n', 'Carolyn Martin': 'cmartinbc@bloomberg.com\\n', 'Carl Lopez': 'clopezbd@theatlantic.com\\n', 'Richard Wright': 'rwrightbe@quantcast.com\\n', 'Louis Peters': 'lpetersbf@upenn.edu\\n', 'Shawn Reynolds': 'sreynoldsbg@ucla.edu\\n', 'Martin Barnes': 'mbarnesbh@youtube.com\\n', 'Janet Gomez': 'jgomezbi@tuttocitta.it\\n', 'Andrew Young': 'ayoungbj@usa.gov\\n', 'Thomas Washington': 'twashingtonbk@facebook.com\\n', 'Angela Carpenter': 'acarpenterbl@bloglines.com\\n', 'Elizabeth Miller': 'emillerbm@t.co\\n', 'Wanda Torres': 'wtorresbn@squarespace.com\\n', 'Marilyn Meyer': 'mmeyerbo@engadget.com\\n', 'Ralph Wheeler': 'rwheelerbp@instagram.com\\n', 'Gary Simmons': 'gsimmonsbq@nationalgeographic.com\\n', 'Ralph Bishop': 'rbishopbr@facebook.com\\n', 'Theresa Tucker': 'ttuckerbs@sitemeter.com\\n', 'Karen Lopez': 'klopezbt@chicagotribune.com\\n', 'Jennifer Dunn': 'jdunnbu@whitehouse.gov\\n', 'Joseph Hansen': 'jhansenbv@smugmug.com\\n', 'Jason Olson': 'jolsonbw@techcrunch.com\\n', 'Eric Boyd': 'eboydbx@indiatimes.com\\n', 'Jerry Castillo': 'jcastilloby@dell.com\\n', 'Judy Hunt': 'jhuntbz@shinystat.com\\n', 'Jacqueline Hudson': 'jhudsonc0@flavors.me\\n', 'Amanda Cole': 'acolec1@prlog.org\\n', 'Scott Kennedy': 'skennedyc2@wordpress.org\\n', 'Marilyn Lane': 'mlanec3@ibm.com\\n', 'Anthony Miller': 'amillerc4@t-online.de\\n', 'Amy Flores': 'afloresc5@usa.gov\\n', 'Ruby Fuller': 'rfullerc6@wsj.com\\n', 'Ernest Freeman': 'efreemanc7@live.com\\n', 'Donna Morris': 'dmorrisc8@ebay.com\\n', 'Diana Gomez': 'dgomezc9@sciencedaily.com\\n', 'Fred Franklin': 'ffranklinca@cyberchimps.com\\n', 'Janet Alexander': 'jalexandercb@blogtalkradio.com\\n', 'Eric Mccoy': 'emccoycc@geocities.com\\n', 'Harry Gonzales': 'hgonzalescd@blogger.com\\n', 'Sandra Marshall': 'smarshallce@bluehost.com\\n', 'Brandon Evans': 'bevanscf@washingtonpost.com\\n', 'George Arnold': 'garnoldch@123-reg.co.uk\\n', 'Wanda Fernandez': 'wfernandezci@google.it\\n', 'Alan Simpson': 'asimpsoncj@dedecms.com\\n', 'Donald Cook': 'dcookex@discuz.net\\n', 'Julie Larson': 'jlarsoncl@stumbleupon.com\\n', 'Keith Ruiz': 'kruizcm@google.nl\\n', 'Wanda Myers': 'wmyerscn@nba.com\\n', 'David Fowler': 'dfowlerco@4shared.com\\n', 'Brian Arnold': 'barnoldcp@is.gd\\n', 'Joe Payne': 'jpaynecq@dedecms.com\\n', 'Ruby Alexander': 'ralexandercr@adobe.com\\n', 'Martha Edwards': 'medwardscs@shinystat.com\\n', 'Brandon Henderson': 'bhendersonct@ebay.co.uk\\n', 'Kelly Hall': 'khallcu@phoca.cz\\n', 'Robert Austin': 'raustincv@exblog.jp\\n', 'Richard Reynolds': 'rreynoldscw@forbes.com\\n', 'Scott Castillo': 'scastillocx@zimbio.com\\n', 'Aaron Hernandez': 'ahernandezcy@jugem.jp\\n', 'Billy Hall': 'bhallcz@nature.com\\n', 'Jason Lynch': 'jlynchd0@smh.com.au\\n', 'Eugene Smith': 'esmithd1@sun.com\\n', 'Jane Burns': 'jburnsd2@ed.gov\\n', 'Kimberly Russell': 'krusselld3@example.com\\n', 'Michelle Cole': 'mcoled4@webnode.com\\n', 'Sandra Johnston': 'sjohnstond5@behance.net\\n', 'Chris Powell': 'cpowelld6@instagram.com\\n', 'Elizabeth Lee': 'eleed7@rakuten.co.jp\\n', 'Amy Adams': 'aadamsd8@bbc.co.uk\\n', 'Betty Wright': 'bwrightd9@cyberchimps.com\\n', 'Roy Harper': 'rharperda@ustream.tv\\n', 'Kimberly Elliott': 'kelliottdb@cornell.edu\\n', 'Jennifer King': 'jkingdc@ucoz.ru\\n', 'Anna Robinson': 'arobinsondd@uol.com.br\\n', 'Bruce Perkins': 'bperkinsdf@fda.gov\\n', 'Johnny Torres': 'jtorresdg@microsoft.com\\n', 'Kathryn Fuller': 'kfullerdh@paginegialle.it\\n', 'Thomas Mcdonald': 'tmcdonalddi@spiegel.de\\n', 'Carol Stone': 'cstonedj@mapy.cz\\n', 'Brian Black': 'bblackdk@twitpic.com\\n', 'Carolyn Mason': 'cmasondl@theglobeandmail.com\\n', 'Judith George': 'jgeorgedm@purevolume.com\\n', 'Charles Weaver': 'cweaverdn@google.co.jp\\n', 'Adam Bryant': 'abryantdo@vinaora.com\\n', 'James Turner': 'jturnerdp@zimbio.com\\n', 'Tina Brown': 'tbrowndq@samsung.com\\n', 'Charles Flores': 'cfloresdr@census.gov\\n', 'Laura Dean': 'ldeands@paginegialle.it\\n', 'Frances Allen': 'fallendt@nydailynews.com\\n', 'Brenda Schmidt': 'bschmidtdu@is.gd\\n', 'Frank Fuller': 'ffullerdv@reuters.com\\n', 'Robin Henderson': 'rhendersondw@tmall.com\\n', 'George Banks': 'gbanksdx@skype.com\\n', 'Rose Snyder': 'rsnyderdy@hexun.com\\n', 'Juan Adams': 'jadamsdz@lulu.com\\n', 'Heather Harrison': 'hharrisone0@msn.com\\n', 'Kelly West': 'kweste1@mac.com\\n', 'Ruth Jones': 'rjonese2@toplist.cz\\n', 'Julie Henderson': 'jhendersone3@hatena.ne.jp\\n', 'Antonio Kelly': 'akellye4@xing.com\\n', 'Kimberly Willis': 'kwillise5@ning.com\\n', 'Gary Stevens': 'gstevense6@com.com\\n', 'Arthur Ryan': 'aryane7@ebay.co.uk\\n', 'Virginia Johnston': 'vjohnstone8@gnu.org\\n', 'Katherine Rose': 'krosee9@un.org\\n', 'Nicholas Gibson': 'ngibsonea@theguardian.com\\n', 'Frank Cooper': 'fcoopereb@usda.gov\\n', 'Robert Holmes': 'rholmesec@google.nl\\n', 'Evelyn Green': 'egreened@e-recht24.de\\n', 'Samuel Ryan': 'sryanee@washingtonpost.com\\n', 'Bruce Coleman': 'bcolemanef@yolasite.com\\n', 'Elizabeth Hart': 'eharteg@sfgate.com\\n', 'Jessica Fernandez': 'jfernandezeh@nsw.gov.au\\n', 'Daniel Berry': 'dberryei@google.com.au\\n', 'Matthew Myers': 'mmyersej@ftc.gov\\n', 'Jose Carroll': 'jcarrollek@hibu.com\\n', 'Thomas Payne': 'tpayneel@narod.ru\\n', 'Steven White': 'swhiteem@de.vu\\n', 'Gary Garrett': 'ggarretten@mapquest.com\\n', 'Christine Nelson': 'cnelsoneo@unicef.org\\n', 'Jessica Berry': 'jberryep@hubpages.com\\n', 'Andrea Webb': 'awebbeq@google.com.hk\\n', 'Kelly Gonzalez': 'kgonzalezer@yellowpages.com\\n', 'Maria Reed': 'mreedes@economist.com\\n', 'Marie Thomas': 'mthomaset@senate.gov\\n', 'Douglas Carter': 'dcartereu@nbcnews.com\\n', 'Roger Fernandez': 'rfernandezev@nature.com\\n', 'Roger Green': 'rgreenew@dyndns.org\\n', 'Keith Olson': 'kolsoney@berkeley.edu\\n', 'Russell Mcdonald': 'rmcdonaldez@printfriendly.com\\n', 'Stephen Frazier': 'sfrazierf0@apple.com\\n', 'Douglas Kelley': 'dkelleyf1@lulu.com\\n', 'Phillip Rodriguez': 'prodriguezf2@statcounter.com\\n', 'Kimberly Montgomery': 'kmontgomeryf3@linkedin.com\\n', 'Joseph Schmidt': 'jschmidtf4@google.es\\n', 'Denise Howell': 'dhowellf5@ameblo.jp\\n', 'Kimberly Moore': 'kmooref6@xrea.com\\n', 'Wanda Reid': 'wreidf7@uiuc.edu\\n', 'Randy Fowler': 'rfowlerf8@zdnet.com\\n', 'Ruth Bennett': 'rbennettf9@delicious.com\\n', 'Randy Wells': 'rwellsfa@tripod.com\\n', 'Rebecca Hughes': 'rhughesfb@dot.gov\\n', 'Rebecca Ross': 'rrossfc@sogou.com\\n', 'Christina Vasquez': 'cvasquezfd@bbc.co.uk\\n', 'Russell Kennedy': 'rkennedyfe@vimeo.com\\n', 'Rebecca Frazier': 'rfrazierff@japanpost.jp\\n', 'Christopher Rice': 'cricefg@dedecms.com\\n', 'Phyllis Hill': 'phillfh@msu.edu\\n', 'Heather Evans': 'hevansfi@hibu.com\\n', 'Terry Freeman': 'tfreemanfj@nasa.gov\\n', 'Phillip Brooks': 'pbrooksfk@devhub.com\\n', 'Keith Sims': 'ksimsfl@dailymotion.com\\n', 'Bruce Mendoza': 'bmendozafm@youtube.com\\n', 'Victor Payne': 'vpaynefn@myspace.com\\n', 'Jane Anderson': 'jandersonfo@chron.com\\n', 'Henry Duncan': 'hduncanfp@github.com\\n', 'Jerry Hamilton': 'jhamiltonfq@huffingtonpost.com\\n', 'Rebecca Wright': 'rwrightfr@arstechnica.com\\n', 'Janet Franklin': 'jfranklinfs@google.cn\\n', 'Anthony Dean': 'adeanft@patch.com\\n', 'Judith Payne': 'jpaynefu@free.fr\\n', 'Kenneth Jackson': 'kjacksonfv@google.it\\n', 'Teresa Larson': 'tlarsonfw@stumbleupon.com\\n', 'Heather Shaw': 'hshawfx@jimdo.com\\n', 'Ryan Stanley': 'rstanleyfy@tiny.cc\\n', 'Joseph Howard': 'jhowardfz@whitehouse.gov\\n', 'Stephen Berry': 'sberryg0@state.gov\\n', 'Willie Harrison': 'wharrisong1@instagram.com\\n', 'Randy Sanders': 'rsandersg2@ca.gov\\n', 'Betty Garza': 'bgarzag3@va.gov\\n', 'Jessica Olson': 'jolsong4@cnet.com\\n', 'Scott Nelson': 'snelsong5@indiatimes.com\\n', 'Earl Lopez': 'elopezg6@latimes.com\\n', 'Anne Porter': 'aporterg7@cbsnews.com\\n', 'Theresa Brooks': 'tbrooksg8@noaa.gov\\n', 'Wanda Kelly': 'wkellyg9@hostgator.com\\n', 'Ernest Kelly': 'ekellyga@ocn.ne.jp\\n', 'Anne Banks': 'abanksgb@independent.co.uk\\n', 'Edward Ortiz': 'eortizgc@webmd.com\\n', 'Phillip Carroll': 'pcarrollgd@dion.ne.jp\\n', 'Larry Myers': 'lmyersge@utexas.edu\\n', 'Harry Tucker': 'htuckergf@blogger.com\\n', 'Mary Garcia': 'mgarciagg@sourceforge.net\\n', 'Katherine Day': 'kdaygh@github.com\\n', 'Lisa White': 'lwhitegi@behance.net\\n', 'David Reid': 'dreidgj@purevolume.com\\n', 'Catherine Ramos': 'cramosgk@nationalgeographic.com\\n', 'Jane Lee': 'jleegl@businessinsider.com\\n', 'Karen Morales': 'kmoralesgm@si.edu\\n', 'Alice Miller': 'amillergn@altervista.org\\n', 'Willie Marshall': 'wmarshallgo@macromedia.com\\n', 'Gloria Griffin': 'ggriffingp@independent.co.uk\\n', 'Phyllis Vasquez': 'pvasquezgq@over-blog.com\\n', 'Ruth Burns': 'rburnsgr@exblog.jp\\n', 'Mary Nguyen': 'mnguyengs@twitpic.com\\n', 'Michelle Kelley': 'mkelleygt@storify.com\\n', 'Barbara Richardson': 'brichardsongu@webnode.com\\n', 'Brenda Moreno': 'bmorenogv@hatena.ne.jp\\n', 'Phyllis Clark': 'pclarkgw@buzzfeed.com\\n', 'Doris Grant': 'dgrantgx@bbb.org\\n', 'Jeremy Thomas': 'jthomasgy@jiathis.com\\n', 'Peter Edwards': 'pedwardsgz@arizona.edu\\n', 'Matthew Green': 'mgreenh0@microsoft.com\\n', 'Randy Griffin': 'rgriffinh1@ycombinator.com\\n', 'Marie Bowman': 'mbowmanh2@bing.com\\n', 'Virginia Fernandez': 'vfernandezh3@canalblog.com\\n', 'Gloria Diaz': 'gdiazh4@java.com\\n', 'Gary Nguyen': 'gnguyenh5@rambler.ru\\n', 'Richard Richards': 'rrichardsh6@salon.com\\n', 'Carl Hansen': 'chansenh7@qq.com\\n', 'Arthur Jones': 'ajonesh8@gnu.org\\n', 'Doris Barnes': 'dbarnesh9@google.nl\\n', 'Earl Miller': 'emillerha@army.mil\\n', 'Jennifer Shaw': 'jshawhb@barnesandnoble.com\\n', 'Frances Bennett': 'fbennetthc@europa.eu\\n', 'Aaron Coleman': 'acolemanhd@sitemeter.com\\n', 'Mildred Butler': 'mbutlerhe@privacy.gov.au\\n', 'Jose Hart': 'jhartir@google.pl\\n', 'Angela Hernandez': 'ahernandezhg@mozilla.org\\n', 'Ruth Allen': 'rallenhh@merriam-webster.com\\n', 'Todd Coleman': 'tcolemanhi@linkedin.com\\n', 'Andrea Ross': 'arosshj@domainmarket.com\\n', 'Andrew Banks': 'abankshk@cyberchimps.com\\n', 'Charles Romero': 'cromerohl@statcounter.com\\n', 'Robin Spencer': 'rspencerhm@ihg.com\\n', 'Scott Ramirez': 'sramirezhn@yelp.com\\n', 'Robert Greene': 'rgreeneho@amazon.de\\n', 'Mark Scott': 'mscotthp@bbc.co.uk\\n', 'Gloria Hudson': 'ghudsonhq@goo.gl\\n', 'Betty Hunt': 'bhunthr@intel.com\\n', 'Elizabeth Wagner': 'ewagnerhs@plala.or.jp\\n', 'Lori Kelly': 'lkellyht@blog.com\\n', 'Ruth Black': 'rblackhu@hud.gov\\n', 'Deborah Richardson': 'drichardsonhv@msn.com\\n', 'Kimberly James': 'kjameshw@jiathis.com\\n', 'Elizabeth Sanchez': 'esanchezhx@woothemes.com\\n', 'Alice Oliver': 'aoliverhy@spotify.com\\n', 'Denise Henderson': 'dhendersonhz@ebay.co.uk\\n', 'Lillian Wood': 'lwoodi0@sbwire.com\\n', 'Laura Marshall': 'lmarshalli1@nba.com\\n', 'Henry Patterson': 'hpattersoni2@joomla.org\\n', 'Nancy Mills': 'nmillsi3@163.com\\n', 'Christine Thomas': 'cthomasi4@cdc.gov\\n', 'Andrea Myers': 'amyersi5@google.ca\\n', 'Philip Henderson': 'phendersoni6@salon.com\\n', 'Nancy Bryant': 'nbryanti7@a8.net\\n', 'Richard Wallace': 'rwallacei8@flickr.com\\n', 'Scott Collins': 'scollinsi9@dot.gov\\n', 'Edward Adams': 'eadamsia@wordpress.org\\n', 'Wanda Ross': 'wrossib@wordpress.com\\n', 'Bruce Owens': 'bowensic@ebay.co.uk\\n', 'Willie Simpson': 'wsimpsonid@wp.com\\n', 'Kelly Stevens': 'kstevensie@reference.com\\n', 'Janet Medina': 'jmedinaif@msn.com\\n', 'Anthony Mccoy': 'amccoyig@bandcamp.com\\n', 'Marie Romero': 'mromeroih@springer.com\\n', 'Debra Garrett': 'dgarrettii@cornell.edu\\n', 'Nancy Gonzalez': 'ngonzalezij@cpanel.net\\n', 'Judith Marshall': 'jmarshallik@phoca.cz\\n', 'Wanda Watson': 'wwatsonil@linkedin.com\\n', 'Aaron Matthews': 'amatthewsim@walmart.com\\n', 'Todd Matthews': 'tmatthewsin@europa.eu\\n', 'Anna Robertson': 'arobertsonio@jimdo.com\\n', 'Maria Hughes': 'mhughesip@over-blog.com\\n', 'Jane Richards': 'jrichardsiq@mit.edu\\n', 'Scott Berry': 'sberryis@pinterest.com\\n', 'Todd Willis': 'twillisit@ustream.tv\\n', 'Brian Castillo': 'bcastilloiu@macromedia.com\\n', 'Arthur Henry': 'ahenryiv@java.com\\n', 'Victor Bowman': 'vbowmaniw@hubpages.com\\n', 'Joshua Nguyen': 'jnguyenix@howstuffworks.com\\n', 'Carlos Gray': 'cgrayiy@epa.gov\\n', 'Tammy Harrison': 'tharrisoniz@vk.com\\n', 'Ashley Foster': 'afosterj0@sakura.ne.jp\\n', 'Stephanie Richards': 'srichardsj1@netvibes.com\\n', 'Janet Cox': 'jcoxj2@stanford.edu\\n', 'Ryan Garza': 'rgarzaj3@thetimes.co.uk\\n', 'Amy Gilbert': 'agilbertj4@123-reg.co.uk\\n', 'Jacqueline Cook': 'jcookj5@aboutads.info\\n', 'Wayne Nelson': 'wnelsonj6@gnu.org\\n', 'Willie Young': 'wyoungj7@seattletimes.com\\n', 'Jose Grant': 'jgrantj8@ft.com\\n', 'Joseph Parker': 'jparkerj9@indiatimes.com\\n', 'Heather Snyder': 'hsnyderja@weibo.com\\n', 'Amy Peters': 'apetersjb@eventbrite.com\\n', 'Lawrence Gardner': 'lgardnerjc@cnn.com\\n', 'Carlos Reed': 'creedjd@lulu.com\\n', 'Linda Fisher': 'lfisherje@about.me\\n', 'Raymond Banks': 'rbanksjf@gmpg.org\\n', 'Lawrence Fernandez': 'lfernandezjg@exblog.jp\\n', 'Andrew Sanders': 'asandersjh@ebay.co.uk\\n', 'Elizabeth Carpenter': 'ecarpenterji@reverbnation.com\\n', 'Pamela Gibson': 'pgibsonjj@whitehouse.gov\\n', 'Howard Edwards': 'hedwardsjk@mlb.com\\n', 'Marilyn Weaver': 'mweaverjl@artisteer.com\\n', 'Robert Lynch': 'rlynchjm@slashdot.org\\n', 'Angela Bryant': 'abryantjn@example.com\\n', 'David Burns': 'dburnsjp@sohu.com\\n', 'Larry Cook': 'lcookjq@loc.gov\\n', 'Steve Burke': 'sburkejr@spiegel.de\\n', 'Brenda Hamilton': 'bhamiltonjs@g.co\\n', 'Frances Hanson': 'fhansonjt@gnu.org\\n', 'Bonnie Sanchez': 'bsanchezju@imageshack.us\\n', 'Virginia Banks': 'vbanksjv@google.nl\\n', 'Larry Jenkins': 'ljenkinsjw@youtu.be\\n', 'Julie Willis': 'jwillisjx@narod.ru\\n', 'Susan Perkins': 'sperkinsjy@illinois.edu\\n', 'Anna Powell': 'apowelljz@berkeley.edu\\n', 'Angela Rogers': 'arogersk0@hubpages.com\\n', 'Marie Stanley': 'mstanleyk1@hubpages.com\\n', 'Judy Sullivan': 'jsullivank2@t.co\\n', 'Larry Alvarez': 'lalvarezk3@toplist.cz\\n', 'John Simmons': 'jsimmonsk4@ocn.ne.jp\\n', 'Martin Moore': 'mmoorek5@icq.com\\n', 'Wanda Hunt': 'whuntk6@wikipedia.org\\n', 'David Hunter': 'dhunterk7@kickstarter.com\\n', 'Scott Gonzales': 'sgonzalesk8@digg.com\\n', 'Donna Reyes': 'dreyesk9@storify.com\\n', 'Catherine Mccoy': 'cmccoyka@google.it\\n', 'Andrea Ellis': 'aelliskb@discovery.com\\n', 'Donald Watson': 'dwatsonkc@biblegateway.com\\n', 'Kevin Miller': 'kmillerkd@prnewswire.com\\n', 'Russell Romero': 'rromeroke@diigo.com\\n', 'Phillip Duncan': 'pduncankf@surveymonkey.com\\n', 'Joyce Alvarez': 'jalvarezkg@noaa.gov\\n', 'Arthur Ross': 'arosskh@github.io\\n', 'Richard Lawson': 'rlawsonki@paginegialle.it\\n', 'Emily Williamson': 'ewilliamsonkj@apple.com\\n', 'Scott Jenkins': 'sjenkinskk@clickbank.net\\n', 'Dennis Scott': 'dscottkl@reference.com\\n', 'Dennis Chavez': 'dchavezkm@google.es\\n', 'Jean Olson': 'jolsonkn@msu.edu\\n', 'Howard Marshall': 'hmarshallko@123-reg.co.uk\\n', 'Philip Ferguson': 'pfergusonkp@unesco.org\\n', 'Brenda Mills': 'bmillskq@sohu.com\\n', 'Barbara Fuller': 'bfullerkr@symantec.com\\n', 'Mary Little': 'mlittleks@jugem.jp\\n', 'Sandra Hall': 'shallkt@dion.ne.jp\\n', 'Nancy Fernandez': 'nfernandezku@wp.com\\n', 'Sharon Shaw': 'sshawkv@liveinternet.ru\\n', 'Earl Coleman': 'ecolemankw@sun.com\\n', 'Clarence Torres': 'ctorreskx@hibu.com\\n', 'Sarah Chapman': 'schapmanky@biglobe.ne.jp\\n', 'Terry Rivera': 'triverakz@ezinearticles.com\\n', 'Bonnie Owens': 'bowensl0@fotki.com\\n', 'Albert Robinson': 'arobinsonr2@taobao.com\\n', 'Peter Lewis': 'plewisl2@squidoo.com\\n', 'Jeffrey Collins': 'jcollinsl3@list-manage.com\\n', 'Lori Edwards': 'ledwardsl4@accuweather.com\\n', 'Ernest Grant': 'egrantl5@google.nl\\n', 'Wanda Rogers': 'wrogersl6@fema.gov\\n', 'Beverly Kim': 'bkiml7@deliciousdays.com\\n', 'Henry Morgan': 'hmorganl8@ft.com\\n', 'Robert Watkins': 'rwatkinsl9@yellowpages.com\\n', 'Sara Schmidt': 'sschmidtla@vimeo.com\\n', 'Eric Shaw': 'eshawlb@mediafire.com\\n', 'Diana Simmons': 'dsimmonslc@icq.com\\n', 'John Patterson': 'jpattersonld@telegraph.co.uk\\n', 'Joe Nelson': 'jnelsonle@prweb.com\\n', 'Jesse Boyd': 'jboydlf@hc360.com\\n', 'Craig Roberts': 'crobertslg@nasa.gov\\n', 'Randy Martin': 'rmartinlh@sina.com.cn\\n', 'Christine Morgan': 'cmorganli@cafepress.com\\n', 'Antonio Gonzalez': 'agonzalezlj@nba.com\\n', 'Brandon Ryan': 'bryanlk@loc.gov\\n', 'Wanda Diaz': 'wdiazll@youtu.be\\n', 'Kathryn Little': 'klittlelm@yandex.ru\\n', 'Todd Hicks': 'thicksln@bloglovin.com\\n', 'Jesse Hunt': 'jhuntlo@diigo.com\\n', 'Gregory Graham': 'ggrahamlp@pagesperso-orange.fr\\n', 'Judy Washington': 'jwashingtonlq@cam.ac.uk\\n', 'Sean Hudson': 'shudsonlr@mediafire.com\\n', 'Paul Daniels': 'pdanielsls@wp.com\\n', 'Cynthia Reid': 'creidlt@over-blog.com\\n', 'Norma Lawson': 'nlawsonlu@bbc.co.uk\\n', 'Jacqueline Payne': 'jpaynelv@altervista.org\\n', 'Joan Watson': 'jwatsonlw@blog.com\\n', 'Kevin Elliott': 'kelliottlx@blogger.com\\n', 'Arthur Anderson': 'aandersonly@bluehost.com\\n', 'Cheryl Brooks': 'cbrookslz@digg.com\\n', 'Ruby Marshall': 'rmarshallm0@webmd.com\\n', 'Barbara Burns': 'bburnsm1@networksolutions.com\\n', 'Donald Snyder': 'dsnyderm2@walmart.com\\n', 'Willie Foster': 'wfosterm3@nih.gov\\n', 'Debra Stewart': 'dstewartm4@harvard.edu\\n', 'Edward Gray': 'egraym5@scientificamerican.com\\n', 'Richard Bradley': 'rbradleym6@soundcloud.com\\n', 'Anna Lopez': 'alopezm7@opera.com\\n', 'Christopher George': 'cgeorgem8@google.nl\\n', 'Tina Romero': 'tromerom9@upenn.edu\\n', 'Jesse Riley': 'jrileyma@wikia.com\\n', 'Irene Andrews': 'iandrewsmb@unblog.fr\\n', 'Jack Jackson': 'jjacksonmc@cdc.gov\\n', 'Paula Hayes': 'phayesmd@census.gov\\n', 'Gloria Harper': 'gharperme@ehow.com\\n', 'Michael Wheeler': 'mwheelermf@psu.edu\\n', 'Louise Arnold': 'larnoldmg@nbcnews.com\\n', 'Keith Lynch': 'klynchmh@sun.com\\n', 'Daniel Welch': 'dwelchmi@bravesites.com\\n', 'Phillip Reed': 'preedmj@cmu.edu\\n', 'Donna Foster': 'dfostermk@nih.gov\\n', 'Howard Brown': 'hbrownml@studiopress.com\\n', 'Kenneth Kennedy': 'kkennedymm@webmd.com\\n', 'Clarence Morgan': 'cmorganmn@issuu.com\\n', 'Barbara Brown': 'bbrownmo@ihg.com\\n', 'Jeremy Harvey': 'jharveymp@addthis.com\\n', 'Joan Cooper': 'jcoopermq@github.io\\n', 'Thomas Henderson': 'thendersonmr@bluehost.com\\n', 'Scott Sanchez': 'ssanchezms@discuz.net\\n', 'Ann Berry': 'aberrymt@google.com\\n', 'Shawn Johnston': 'sjohnstonmu@vinaora.com\\n', 'Gloria Ellis': 'gellismv@wiley.com\\n', 'Jerry Dixon': 'jdixonmw@istockphoto.com\\n', 'Susan Mendoza': 'smendozamx@nifty.com\\n', 'Robin Murray': 'rmurraymy@slashdot.org\\n', 'Brenda Garrett': 'bgarrettmz@accuweather.com\\n', 'Roger Webb': 'rwebbn0@woothemes.com\\n', 'Tammy Boyd': 'tboydn1@instagram.com\\n', 'Paul Armstrong': 'parmstrongn2@wired.com\\n', 'Rebecca Weaver': 'rweavern3@cisco.com\\n', 'Doris Dixon': 'ddixonn4@csmonitor.com\\n', 'Kathy Cooper': 'kcoopern5@google.es\\n', 'Johnny Ryan': 'jryann6@ibm.com\\n', 'Barbara Banks': 'bbanksn7@sitemeter.com\\n', 'Carol Baker': 'cbakern8@slashdot.org\\n', 'Joan Webb': 'jwebbn9@discovery.com\\n', 'Betty King': 'bkingna@bloomberg.com\\n', 'Scott Alexander': 'salexandernb@globo.com\\n', 'Jimmy Andrews': 'jandrewsnc@yelp.com\\n', 'Michelle Tucker': 'mtuckernd@timesonline.co.uk\\n', 'Patrick Burke': 'pburkene@plala.or.jp\\n', 'Tina Morris': 'tmorrisnf@lycos.com\\n', 'James Gibson': 'jgibsonng@google.com\\n', 'Russell Lawrence': 'rlawrencenh@ovh.net\\n', 'Gloria Baker': 'gbakerni@cloudflare.com\\n', 'Teresa Armstrong': 'tarmstrongnj@cloudflare.com\\n', 'Catherine Gardner': 'cgardnernk@dell.com\\n', 'Donna Hicks': 'dhicksnl@microsoft.com\\n', 'Michelle Robertson': 'mrobertsonnm@youtube.com\\n', 'Kevin Willis': 'kwillisnn@printfriendly.com\\n', 'Russell Morgan': 'rmorganno@fc2.com\\n', 'Jerry Rogers': 'jrogersnp@furl.net\\n', 'Robin Stevens': 'rstevensnq@reddit.com\\n', 'George Mendoza': 'gmendozanr@angelfire.com\\n', 'Lori Lopez': 'llopezns@disqus.com\\n', 'Barbara Wallace': 'bwallacent@wikia.com\\n', 'Heather Hill': 'hhillnu@technorati.com\\n', 'Juan Day': 'jdaynv@mapquest.com\\n', 'Thomas Lee': 'tleenw@apple.com\\n', 'Larry Russell': 'lrussellnx@addtoany.com\\n', 'Thomas Sanders': 'tsandersny@samsung.com\\n', 'Lawrence Bishop': 'lbishopnz@wikipedia.org\\n', 'Nicole Green': 'ngreeno0@ask.com\\n', 'Roy Ramos': 'rramoso1@umn.edu\\n', 'Anna Reid': 'areido2@blog.com\\n', 'Lawrence Gibson': 'lgibsonqf@usda.gov\\n', 'Jennifer Fisher': 'jfishero4@unicef.org\\n', 'Richard Long': 'rlongo5@mtv.com\\n', 'Larry Flores': 'lfloreso6@time.com\\n', 'Robert Oliver': 'rolivero7@com.com\\n', 'Marie Shaw': 'mshawo8@zimbio.com\\n', 'Chris Fernandez': 'cfernandezo9@issuu.com\\n', 'Justin Long': 'jlongoa@stanford.edu\\n', 'Gary Ford': 'gfordob@about.com\\n', 'Tammy Rogers': 'trogersoc@unicef.org\\n', 'Janice Gilbert': 'jgilbertod@nba.com\\n', 'Ryan Romero': 'rromerooe@mozilla.org\\n', 'Brandon Harrison': 'bharrisonof@fc2.com\\n', 'Mildred Nichols': 'mnicholsog@cornell.edu\\n', 'David Riley': 'drileyoh@boston.com\\n', 'Bobby Ellis': 'bellisoi@technorati.com\\n', 'Janice Garrett': 'jgarrettoj@yolasite.com\\n', 'Antonio Gardner': 'agardnerok@usnews.com\\n', 'Kathleen Carter': 'kcarterol@nymag.com\\n', 'Andrew Garrett': 'agarrettom@pinterest.com\\n', 'Richard Coleman': 'rcolemanon@amazonaws.com\\n', 'Donna Perry': 'dperryoo@bloomberg.com\\n', 'Eric Griffin': 'egriffinop@wikia.com\\n', 'Ruby Brown': 'rbrownoq@a8.net\\n', 'Mildred Jenkins': 'mjenkinsor@ft.com\\n', 'Jonathan Wells': 'jwellsos@dailymotion.com\\n', 'Marilyn Chapman': 'mchapmanot@sourceforge.net\\n', 'Andrea Howell': 'ahowellou@lycos.com\\n', 'Andrew Andrews': 'aandrewsov@livejournal.com\\n', 'Eric Stephens': 'estephensow@tiny.cc\\n', 'Russell Berry': 'rberryox@goo.ne.jp\\n', 'Gerald Shaw': 'gshawoy@irs.gov\\n', 'Kathleen Franklin': 'kfranklinoz@soundcloud.com\\n', 'Shirley King': 'skingp0@google.ca\\n', 'Kimberly Martin': 'kmartinp1@google.com.hk\\n', 'Nicholas Lewis': 'nlewisp2@w3.org\\n', 'Margaret Riley': 'mrileyp3@google.com.au\\n', 'Matthew Elliott': 'melliottp4@squidoo.com\\n', 'Antonio Fuller': 'afullerp5@msn.com\\n', 'Amy Collins': 'acollinsp6@time.com\\n', 'James Chavez': 'jchavezp7@archive.org\\n', 'Dennis Howard': 'dhowardp8@theatlantic.com\\n', 'Angela Peterson': 'apetersonp9@harvard.edu\\n', 'Sharon Richardson': 'srichardsonpa@goo.ne.jp\\n', 'Nicole Adams': 'nadamspb@ocn.ne.jp\\n', 'Donna Johnson': 'djohnsonpc@amazonaws.com\\n', 'Annie Wells': 'awellspd@pcworld.com\\n', 'Alice Romero': 'aromerope@twitter.com\\n', 'Gary Hernandez': 'ghernandezpf@joomla.org\\n', 'Ruby Hayes': 'rhayespg@photobucket.com\\n', 'Norma Dean': 'ndeanph@taobao.com\\n', 'Andrea Day': 'adaypi@live.com\\n', 'Andrea Kelly': 'akellypj@tuttocitta.it\\n', 'Jennifer Bailey': 'jbaileypk@mapy.cz\\n', 'Craig Ortiz': 'cortizpl@cisco.com\\n', 'Eugene Armstrong': 'earmstrongpm@cornell.edu\\n', 'Kathryn Stone': 'kstonepn@free.fr\\n', 'Clarence Hicks': 'chickspo@yelp.com\\n', 'Jean Anderson': 'jandersonpp@guardian.co.uk\\n', 'Martha Olson': 'molsonpq@facebook.com\\n', 'Patrick Young': 'pyoungpr@aol.com\\n', 'Peter Fields': 'pfieldsps@addthis.com\\n', 'Dorothy Spencer': 'dspencerpt@biglobe.ne.jp\\n', 'Jason Hart': 'jhartpu@parallels.com\\n', 'Nicholas Morris': 'nmorrispv@army.mil\\n', 'Patricia Hayes': 'phayespw@flavors.me\\n', 'Ashley Wheeler': 'awheelerpx@reuters.com\\n', 'Sharon Ryan': 'sryanpz@google.co.jp\\n', 'Richard Evans': 'revansq0@europa.eu\\n', 'Clarence Davis': 'cdavisq1@ehow.com\\n', 'Gregory Bowman': 'gbowmanq2@clickbank.net\\n', 'Frances Robinson': 'frobinsonq3@joomla.org\\n', 'Dennis Bell': 'dbellq4@blogspot.com\\n', 'Daniel Jackson': 'djacksonq5@yolasite.com\\n', 'Kimberly Evans': 'kevansq6@ameblo.jp\\n', 'Shawn Kelly': 'skellyq7@tiny.cc\\n', 'Karen Stanley': 'kstanleyq8@tmall.com\\n', 'Emily Ruiz': 'eruizq9@msu.edu\\n', 'Eric Cooper': 'ecooperqa@facebook.com\\n', 'Billy Carter': 'bcarterqb@issuu.com\\n', 'Deborah Hart': 'dhartqc@craigslist.org\\n', 'Steven Jones': 'sjonesqd@washingtonpost.com\\n', 'Jerry Allen': 'jallenqe@ca.gov\\n', 'Gregory Weaver': 'gweaverqg@imgur.com\\n', 'Kathryn Collins': 'kcollinsqh@cafepress.com\\n', 'Virginia Gibson': 'vgibsonqi@comsenz.com\\n', 'Joseph Harvey': 'jharveyqj@ameblo.jp\\n', 'Arthur Castillo': 'acastilloqk@google.ru\\n', 'Christina Young': 'cyoungql@sogou.com\\n', 'Raymond James': 'rjamesqm@nature.com\\n', 'Kenneth Jones': 'kjonesqn@google.ru\\n', 'Samuel Elliott': 'selliottqo@earthlink.net\\n', 'Brian Ward': 'bwardqp@apple.com\\n', 'Shirley Barnes': 'sbarnesqq@gravatar.com\\n', 'Janice Thomas': 'jthomasqr@desdev.cn\\n', 'Gloria Harris': 'gharrisqs@discovery.com\\n', 'Evelyn Boyd': 'eboydqt@youku.com\\n', 'Laura Peterson': 'lpetersonqu@sina.com.cn\\n', 'Ronald Wells': 'rwellsqv@diigo.com\\n', 'Melissa Cunningham': 'mcunninghamqw@clickbank.net\\n', 'Matthew Lee': 'mleeqx@github.io\\n', 'Philip Price': 'ppriceqy@meetup.com\\n', 'Gary Banks': 'gbanksqz@wunderground.com\\n', 'Angela Collins': 'acollinsr0@smugmug.com\\n', 'Ann King': 'akingr1@chicagotribune.com\\n', 'Katherine Fernandez': 'kfernandezr3@woothemes.com\\n', 'Kenneth Gonzales': 'kgonzalesr4@newyorker.com\\n', 'Robin Peters': 'rpetersr5@discuz.net\\n', 'Raymond Simpson': 'rsimpsonr6@wikimedia.org\\n', 'Karen Fox': 'kfoxr7@msu.edu\\n', 'Janet Perez': 'jperezr8@illinois.edu\\n', 'Brian Harrison': 'bharrisonr9@disqus.com\\n', 'Virginia Robertson': 'vrobertsonra@360.cn\\n', 'Sarah Edwards': 'sedwardsrb@de.vu\\n', 'Edward Bell': 'ebellrc@eventbrite.com\\n', 'Elizabeth Greene': 'egreenerd@last.fm\\n', 'William Hawkins': 'whawkinsre@dyndns.org\\n', 'Joyce Bradley': 'jbradleyrf@bloglines.com\\n', 'Rebecca Oliver': 'roliverrg@mail.ru\\n', 'Gerald Thomas': 'gthomasrh@tripadvisor.com\\n', 'Joshua Wilson': 'jwilsonri@mozilla.org\\n', 'Melissa Garrett': 'mgarrettrj@4shared.com\\n', 'Benjamin Henderson': 'bhendersonrk@yellowpages.com\\n', 'Jack Morales': 'jmoralesrl@dailymotion.com\\n', 'Diana James': 'djamesrm@studiopress.com\\n', 'Teresa Pierce': 'tpiercern@ustream.tv\\n', 'Christine Bowman': 'cbowmanro@ning.com\\n', 'Bruce Jordan': 'bjordanrp@acquirethisname.com\\n', 'Linda Morales': 'lmoralesrq@hostgator.com\\n'}\n",
            "rhenderson4@mediafire.com\n",
            "\n"
          ]
        }
      ]
    },
    {
      "cell_type": "markdown",
      "source": [
        "####3. Print a pattern"
      ],
      "metadata": {
        "id": "e6kZPGYKr5Zz"
      }
    },
    {
      "cell_type": "code",
      "source": [
        "# try printing this pattern \n",
        "#write code in the next cell\n",
        "# pro-tip === use   `nested for loops` "
      ],
      "metadata": {
        "colab": {
          "base_uri": "https://localhost:8080/"
        },
        "id": "qkyzwej0sLm6",
        "outputId": "321ea6e8-9bd9-4ed6-e377-220bac853314"
      },
      "execution_count": null,
      "outputs": [
        {
          "output_type": "stream",
          "name": "stdout",
          "text": [
            "* * * * * * * \n",
            "* * * * * * \n",
            "* * * * * \n",
            "* * * * \n",
            "* * * \n",
            "* * \n",
            "* \n"
          ]
        }
      ]
    },
    {
      "cell_type": "code",
      "source": [
        "#write code for above pattern here! \n",
        "for i in range(0,7):\n",
        "  for j in range(0,7-i):\n",
        "    print(\"*\", end=\" \")\n",
        "  print(\"\\r\")"
      ],
      "metadata": {
        "id": "wpj3x2NKsR_U",
        "colab": {
          "base_uri": "https://localhost:8080/"
        },
        "outputId": "4ae79959-7d3b-4bc8-e05d-806088bea14d"
      },
      "execution_count": null,
      "outputs": [
        {
          "output_type": "stream",
          "name": "stdout",
          "text": [
            "* * * * * * * \r\n",
            "* * * * * * \r\n",
            "* * * * * \r\n",
            "* * * * \r\n",
            "* * * \r\n",
            "* * \r\n",
            "* \r\n"
          ]
        }
      ]
    },
    {
      "cell_type": "code",
      "source": [
        "# try printing this pattern \n",
        "#write code in the next cell"
      ],
      "metadata": {
        "colab": {
          "base_uri": "https://localhost:8080/"
        },
        "id": "KXTpda4jsmwn",
        "outputId": "ee63e921-02b1-4429-fc04-8c57874544f1"
      },
      "execution_count": null,
      "outputs": [
        {
          "output_type": "stream",
          "name": "stdout",
          "text": [
            "\n",
            "* \n",
            "* * \n",
            "* * * \n",
            "* * * * \n",
            "* * * * * \n",
            "* * * * * * \n"
          ]
        }
      ]
    },
    {
      "cell_type": "code",
      "source": [
        "#write code for above pattern here! \n",
        "for i in range(0,6):\n",
        "  for j in range(0,i+1):\n",
        "    print(\"*\", end=\" \")\n",
        "  print(\"\\r\")"
      ],
      "metadata": {
        "id": "93JoXYgCs6kc",
        "colab": {
          "base_uri": "https://localhost:8080/"
        },
        "outputId": "39b06d82-49c9-4681-e39c-7891421816f2"
      },
      "execution_count": null,
      "outputs": [
        {
          "output_type": "stream",
          "name": "stdout",
          "text": [
            "* \r\n",
            "* * \r\n",
            "* * * \r\n",
            "* * * * \r\n",
            "* * * * * \r\n",
            "* * * * * * \r\n"
          ]
        }
      ]
    },
    {
      "cell_type": "code",
      "source": [
        ""
      ],
      "metadata": {
        "colab": {
          "base_uri": "https://localhost:8080/"
        },
        "id": "n7izMlmGtLDw",
        "outputId": "80eda4b9-b61f-4376-dcf9-0db8fefc4c69"
      },
      "execution_count": null,
      "outputs": [
        {
          "output_type": "stream",
          "name": "stdout",
          "text": [
            "\n",
            " \n",
            " * \n",
            " * ** \n",
            " * ** *** \n",
            " * ** *** **** \n",
            " * ** *** **** ***** \n"
          ]
        }
      ]
    },
    {
      "cell_type": "code",
      "source": [
        "for i in range(0,5):\n",
        "  for j in range(0, i+1):\n",
        "    print(end=\" \")\n",
        "    for k in range(0,j+1):\n",
        "      print(\"*\", end=\"\")\n",
        "  print(\"\\r\")"
      ],
      "metadata": {
        "id": "ntsQl-dbtiox",
        "colab": {
          "base_uri": "https://localhost:8080/"
        },
        "outputId": "1ca9be13-2614-4337-884c-deab34e69fa1"
      },
      "execution_count": null,
      "outputs": [
        {
          "output_type": "stream",
          "name": "stdout",
          "text": [
            " *\r\n",
            " * **\r\n",
            " * ** ***\r\n",
            " * ** *** ****\r\n",
            " * ** *** **** *****\r\n"
          ]
        }
      ]
    },
    {
      "cell_type": "markdown",
      "source": [
        "####4. Occurance of a number "
      ],
      "metadata": {
        "id": "GloSj8Dr2WBm"
      }
    },
    {
      "cell_type": "markdown",
      "source": [
        "There is a one list which contains different datatypes. Your task is to make a dictionary which keeps the record of how many times a integer has occured. \n",
        "\n",
        "for e.g. if the given list is like following - \n",
        "\n",
        "```\n",
        "[2,5,2,1,0,4,5,2.4,3.5,]\n",
        "```\n",
        "\n",
        "the expected dictionary is -\n",
        "```\n",
        "{0: 1, 1: 4, 2: 3, 5: 2} #we are not considering other datatypes, only integer datatypes are being considered for dictionary. \n",
        "```"
      ],
      "metadata": {
        "id": "Nb2dP34U2atS"
      }
    },
    {
      "cell_type": "code",
      "source": [
        "object_list = [True, False,\"bits pilani k k birla goa campus\",'A',  0,1,3, 23,1,0,5,30,123,2,9,2e-3,]"
      ],
      "metadata": {
        "id": "Q6Zzv1tp3Jjx"
      },
      "execution_count": 2,
      "outputs": []
    },
    {
      "cell_type": "code",
      "source": [
        "#write your code here.\n",
        "ab={}\n",
        "for i in object_list:\n",
        "  if(isinstance(i,int)):\n",
        "    ab[i]=object_list.count(i)\n",
        "print(ab)"
      ],
      "metadata": {
        "id": "6Iu2QU0C4oBM",
        "colab": {
          "base_uri": "https://localhost:8080/"
        },
        "outputId": "9b276ad7-e5b0-4bc3-8914-f1aee141ac10"
      },
      "execution_count": 27,
      "outputs": [
        {
          "output_type": "stream",
          "name": "stdout",
          "text": [
            "{True: 3, False: 3, 3: 1, 23: 1, 5: 1, 30: 1, 123: 1, 2: 1, 9: 1}\n"
          ]
        }
      ]
    },
    {
      "cell_type": "code",
      "source": [
        ""
      ],
      "metadata": {
        "id": "qFmPY5RB3MHN"
      },
      "execution_count": null,
      "outputs": []
    },
    {
      "cell_type": "code",
      "source": [
        ""
      ],
      "metadata": {
        "id": "zR7A17-v3TzR"
      },
      "execution_count": null,
      "outputs": []
    },
    {
      "cell_type": "code",
      "source": [
        ""
      ],
      "metadata": {
        "id": "cFbf3cDe3dT4"
      },
      "execution_count": null,
      "outputs": []
    }
  ]
}