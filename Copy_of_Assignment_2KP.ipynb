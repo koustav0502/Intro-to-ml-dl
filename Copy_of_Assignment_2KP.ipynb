{
  "nbformat": 4,
  "nbformat_minor": 0,
  "metadata": {
    "colab": {
      "name": "Copy of Assignment 2KP.ipynb",
      "provenance": [],
      "collapsed_sections": [],
      "include_colab_link": true
    },
    "kernelspec": {
      "name": "python3",
      "display_name": "Python 3"
    },
    "language_info": {
      "name": "python"
    }
  },
  "cells": [
    {
      "cell_type": "markdown",
      "metadata": {
        "id": "view-in-github",
        "colab_type": "text"
      },
      "source": [
        "<a href=\"https://colab.research.google.com/github/koustav0502/Intro-to-ml-dl/blob/main/Copy_of_Assignment_2KP.ipynb\" target=\"_parent\"><img src=\"https://colab.research.google.com/assets/colab-badge.svg\" alt=\"Open In Colab\"/></a>"
      ]
    },
    {
      "cell_type": "markdown",
      "source": [
        "#Numpy "
      ],
      "metadata": {
        "id": "klQmYTJELgBV"
      }
    },
    {
      "cell_type": "code",
      "source": [
        "import numpy as np \n"
      ],
      "metadata": {
        "id": "VCuRcJZtLl9-"
      },
      "execution_count": 3,
      "outputs": []
    },
    {
      "cell_type": "code",
      "source": [
        "# create a matrix 3x3 with values ranging from 50,58\n",
        "#dont write code in this block\n",
        "#ideal output is \n"
      ],
      "metadata": {
        "colab": {
          "base_uri": "https://localhost:8080/"
        },
        "id": "k-mUEOqFMA8a",
        "outputId": "a4ec6175-436e-4949-fa01-f09eae6b6a14"
      },
      "execution_count": null,
      "outputs": [
        {
          "output_type": "execute_result",
          "data": {
            "text/plain": [
              "array([[50, 51, 52],\n",
              "       [53, 54, 55],\n",
              "       [56, 57, 58]])"
            ]
          },
          "metadata": {},
          "execution_count": 4
        }
      ]
    },
    {
      "cell_type": "code",
      "source": [
        "#write code here\n",
        "import numpy as np\n",
        "num=50\n",
        "x=np.zeros((3,3))\n",
        "for i in range(0,3):\n",
        "  for j in range(0,3):\n",
        "    x[i,j]=num\n",
        "    num=num+1\n",
        "\n",
        "print(x)\n",
        "\n",
        "\n",
        "#or\n",
        "#a = np.arange(50,59).reshape(3,3)\n"
      ],
      "metadata": {
        "id": "NHooHDamMQX1",
        "colab": {
          "base_uri": "https://localhost:8080/"
        },
        "outputId": "f91c6723-945c-45c2-afe1-c7e591ed8610"
      },
      "execution_count": 6,
      "outputs": [
        {
          "output_type": "stream",
          "name": "stdout",
          "text": [
            "[[50. 51. 52.]\n",
            " [53. 54. 55.]\n",
            " [56. 57. 58.]]\n"
          ]
        }
      ]
    },
    {
      "cell_type": "code",
      "source": [
        ""
      ],
      "metadata": {
        "id": "Zov0g_PROZDS"
      },
      "execution_count": null,
      "outputs": []
    },
    {
      "cell_type": "code",
      "source": [
        "# try recreating following array; If need some hint pm :)\n",
        "#dont run this cell"
      ],
      "metadata": {
        "id": "s5U22DrAMbJi"
      },
      "execution_count": 4,
      "outputs": []
    },
    {
      "cell_type": "code",
      "source": [
        "#write your code here . \n",
        "import numpy as np\n",
        "num=0.25\n",
        "k=np.zeros((4,10))\n",
        "num=0.25\n",
        "for i in range(0,4):\n",
        "  for j in range(0,10):\n",
        "    k[i,j]=num\n",
        "    num=num+0.25\n",
        "\n",
        "k\n",
        "#or\n",
        "#k=np.zeros((4,10))\n",
        "#for i in range(0,4):\n",
        "#  for j in range(0,10):\n",
        "#    k[i,j]=num\n",
        "#    num=num+0.25\n",
        "#print(k)\n"
      ],
      "metadata": {
        "id": "W0cRUqMbMwf5",
        "colab": {
          "base_uri": "https://localhost:8080/"
        },
        "outputId": "2980345d-dcbf-4aac-a453-67bcc56be10b"
      },
      "execution_count": 5,
      "outputs": [
        {
          "output_type": "execute_result",
          "data": {
            "text/plain": [
              "array([[ 0.25,  0.5 ,  0.75,  1.  ,  1.25,  1.5 ,  1.75,  2.  ,  2.25,\n",
              "         2.5 ],\n",
              "       [ 2.75,  3.  ,  3.25,  3.5 ,  3.75,  4.  ,  4.25,  4.5 ,  4.75,\n",
              "         5.  ],\n",
              "       [ 5.25,  5.5 ,  5.75,  6.  ,  6.25,  6.5 ,  6.75,  7.  ,  7.25,\n",
              "         7.5 ],\n",
              "       [ 7.75,  8.  ,  8.25,  8.5 ,  8.75,  9.  ,  9.25,  9.5 ,  9.75,\n",
              "        10.  ]])"
            ]
          },
          "metadata": {},
          "execution_count": 5
        }
      ]
    },
    {
      "cell_type": "code",
      "source": [
        "\n"
      ],
      "metadata": {
        "id": "e5d6dNcYOavr"
      },
      "execution_count": null,
      "outputs": []
    },
    {
      "cell_type": "markdown",
      "source": [
        "suppose you store above array into a variable named `mat`, \n",
        "and you are asked to perform slicing operations to get sub parts of the `mat` "
      ],
      "metadata": {
        "id": "AheOMG2nNWtm"
      }
    },
    {
      "cell_type": "code",
      "source": [
        "# using slicing operation return this array\n",
        "#dont write your code here"
      ],
      "metadata": {
        "colab": {
          "base_uri": "https://localhost:8080/"
        },
        "id": "Od0RhCD9NwtJ",
        "outputId": "d8379956-03af-420f-b677-c56647d4fba3"
      },
      "execution_count": null,
      "outputs": [
        {
          "output_type": "execute_result",
          "data": {
            "text/plain": [
              "array([[3.5 , 3.75, 4.  ],\n",
              "       [6.  , 6.25, 6.5 ]])"
            ]
          },
          "metadata": {},
          "execution_count": 16
        }
      ]
    },
    {
      "cell_type": "code",
      "source": [
        "#write code here"
      ],
      "metadata": {
        "id": "y03I7qAPN81e"
      },
      "execution_count": null,
      "outputs": []
    },
    {
      "cell_type": "code",
      "source": [
        "mat=k\n",
        "mat[1:3,3:6]\n"
      ],
      "metadata": {
        "id": "aewf4wCuOb-L",
        "colab": {
          "base_uri": "https://localhost:8080/"
        },
        "outputId": "becbb4e7-809a-4431-ca13-20319ffdfd72"
      },
      "execution_count": 7,
      "outputs": [
        {
          "output_type": "execute_result",
          "data": {
            "text/plain": [
              "array([[3.5 , 3.75, 4.  ],\n",
              "       [6.  , 6.25, 6.5 ]])"
            ]
          },
          "metadata": {},
          "execution_count": 7
        }
      ]
    },
    {
      "cell_type": "code",
      "source": [
        "#use different numpy operations on `mat` to get following output\n",
        "#dont write code in this block\n",
        "\n"
      ],
      "metadata": {
        "colab": {
          "base_uri": "https://localhost:8080/"
        },
        "id": "G6gOS8lhOcBs",
        "outputId": "e1232c69-782b-4573-9e52-ab02fcad8c19"
      },
      "execution_count": null,
      "outputs": [
        {
          "output_type": "execute_result",
          "data": {
            "text/plain": [
              "array([[0.75, 3.25, 5.75, 8.25],\n",
              "       [1.  , 3.5 , 6.  , 8.5 ],\n",
              "       [1.25, 3.75, 6.25, 8.75],\n",
              "       [1.5 , 4.  , 6.5 , 9.  ],\n",
              "       [1.75, 4.25, 6.75, 9.25]])"
            ]
          },
          "metadata": {},
          "execution_count": 20
        }
      ]
    },
    {
      "cell_type": "code",
      "source": [
        "mat[:,2:7].T\n",
        "\n"
      ],
      "metadata": {
        "id": "1HfxCFpkPBzt",
        "colab": {
          "base_uri": "https://localhost:8080/"
        },
        "outputId": "b1841a38-85c4-4f8a-8c00-c91565ecd5e7"
      },
      "execution_count": 8,
      "outputs": [
        {
          "output_type": "execute_result",
          "data": {
            "text/plain": [
              "array([[0.75, 3.25, 5.75, 8.25],\n",
              "       [1.  , 3.5 , 6.  , 8.5 ],\n",
              "       [1.25, 3.75, 6.25, 8.75],\n",
              "       [1.5 , 4.  , 6.5 , 9.  ],\n",
              "       [1.75, 4.25, 6.75, 9.25]])"
            ]
          },
          "metadata": {},
          "execution_count": 8
        }
      ]
    },
    {
      "cell_type": "code",
      "source": [
        "#use different numpy operations on `mat` to get following output\n",
        "#dont write code in this block\n",
        "\n"
      ],
      "metadata": {
        "colab": {
          "base_uri": "https://localhost:8080/"
        },
        "id": "5IAYX2uRPPuI",
        "outputId": "1eee4bf0-38a7-441f-81d9-592a2e45d531"
      },
      "execution_count": null,
      "outputs": [
        {
          "output_type": "execute_result",
          "data": {
            "text/plain": [
              "array([0.75, 3.25, 5.75, 8.25])"
            ]
          },
          "metadata": {},
          "execution_count": 21
        }
      ]
    },
    {
      "cell_type": "code",
      "source": [
        "#write your code here. \n",
        "\n",
        "mat[0:4,2:3].flatten()\n"
      ],
      "metadata": {
        "id": "VSsRUku9PUF9",
        "colab": {
          "base_uri": "https://localhost:8080/"
        },
        "outputId": "7d5db18d-bcd9-4b18-fae9-8f9f68cec5f4"
      },
      "execution_count": 9,
      "outputs": [
        {
          "output_type": "execute_result",
          "data": {
            "text/plain": [
              "array([0.75, 3.25, 5.75, 8.25])"
            ]
          },
          "metadata": {},
          "execution_count": 9
        }
      ]
    },
    {
      "cell_type": "code",
      "source": [
        ""
      ],
      "metadata": {
        "id": "W7IvLNAlPW6V"
      },
      "execution_count": null,
      "outputs": []
    },
    {
      "cell_type": "code",
      "source": [
        "#use different numpy operations on `mat` to get following output\n",
        "#dont write code in this block\n",
        "#note that there is difference between above question and this question, In above question shape of the output array is (4,) and in this block, shape of output is (1,4)\n"
      ],
      "metadata": {
        "colab": {
          "base_uri": "https://localhost:8080/"
        },
        "id": "KE_5JM_lPXoB",
        "outputId": "08d9b845-ca87-4160-ce37-009f98420aa3"
      },
      "execution_count": null,
      "outputs": [
        {
          "output_type": "execute_result",
          "data": {
            "text/plain": [
              "array([[0.75, 3.25, 5.75, 8.25]])"
            ]
          },
          "metadata": {},
          "execution_count": 27
        }
      ]
    },
    {
      "cell_type": "code",
      "source": [
        "z=mat[0:4,2:3].T\n",
        "print(z.shape)\n",
        "z\n"
      ],
      "metadata": {
        "colab": {
          "base_uri": "https://localhost:8080/"
        },
        "id": "rm3MlgYoQwei",
        "outputId": "fa647cee-e222-4224-8819-dd3edd65446e"
      },
      "execution_count": 10,
      "outputs": [
        {
          "output_type": "stream",
          "name": "stdout",
          "text": [
            "(1, 4)\n"
          ]
        },
        {
          "output_type": "execute_result",
          "data": {
            "text/plain": [
              "array([[0.75, 3.25, 5.75, 8.25]])"
            ]
          },
          "metadata": {},
          "execution_count": 10
        }
      ]
    },
    {
      "cell_type": "code",
      "source": [
        "#whats the sum of all elements in `mat`, \n",
        "sum_all = np.sum(mat)\n",
        "sum_row = np.sum(mat, axis=1)\n",
        "sum_column = np.sum(mat, axis=0)\n",
        "print(\"sum of all elements in `mat` :\", sum_all)\n",
        "print(\"sum across rows in `mat` :\", sum_row)\n",
        "print(\"sum across columns in `mat` :\", sum_column)"
      ],
      "metadata": {
        "colab": {
          "base_uri": "https://localhost:8080/"
        },
        "id": "gGTHbIlBPXre",
        "outputId": "bba47941-eaa4-4f9b-a1ba-5f3aa74dfe55"
      },
      "execution_count": 12,
      "outputs": [
        {
          "output_type": "stream",
          "name": "stdout",
          "text": [
            "sum of all elements in `mat` : 205.0\n",
            "sum across rows in `mat` : [13.75 38.75 63.75 88.75]\n",
            "sum across columns in `mat` : [16. 17. 18. 19. 20. 21. 22. 23. 24. 25.]\n"
          ]
        }
      ]
    },
    {
      "cell_type": "code",
      "source": [
        "# whats the standard deviation of all values in mat? \n",
        "std_mat = np.std(mat)\n",
        "print(\"std of mat is : \", std_mat)"
      ],
      "metadata": {
        "colab": {
          "base_uri": "https://localhost:8080/"
        },
        "id": "v700L992QnC6",
        "outputId": "4e568255-cfd1-44a3-e88a-fe83ff2c6b3f"
      },
      "execution_count": null,
      "outputs": [
        {
          "output_type": "stream",
          "name": "stdout",
          "text": [
            "std of mat is :  2.885849095153799\n"
          ]
        }
      ]
    },
    {
      "cell_type": "code",
      "source": [
        "!wget https://raw.githubusercontent.com/abhi-glitchhg/Intro-to-ml-dl/main/Week2/Assignment%202/data.csv"
      ],
      "metadata": {
        "id": "7TaNEBYVRXc7",
        "colab": {
          "base_uri": "https://localhost:8080/"
        },
        "outputId": "bf23adf2-6053-4633-b84f-2b1dc0fbde2b"
      },
      "execution_count": 15,
      "outputs": [
        {
          "output_type": "stream",
          "name": "stdout",
          "text": [
            "--2022-05-28 14:52:36--  https://raw.githubusercontent.com/abhi-glitchhg/Intro-to-ml-dl/main/Week2/Assignment%202/data.csv\n",
            "Resolving raw.githubusercontent.com (raw.githubusercontent.com)... 185.199.108.133, 185.199.109.133, 185.199.110.133, ...\n",
            "Connecting to raw.githubusercontent.com (raw.githubusercontent.com)|185.199.108.133|:443... connected.\n",
            "HTTP request sent, awaiting response... 200 OK\n",
            "Length: 2243759 (2.1M) [text/plain]\n",
            "Saving to: ‘data.csv’\n",
            "\n",
            "data.csv            100%[===================>]   2.14M  --.-KB/s    in 0.06s   \n",
            "\n",
            "2022-05-28 14:52:36 (33.4 MB/s) - ‘data.csv’ saved [2243759/2243759]\n",
            "\n"
          ]
        }
      ]
    },
    {
      "cell_type": "markdown",
      "source": [
        "#pandas"
      ],
      "metadata": {
        "id": "x0Hh8U8SRlPu"
      }
    },
    {
      "cell_type": "code",
      "source": [
        "import pandas as pd"
      ],
      "metadata": {
        "id": "Ioqm1wgdRwgk"
      },
      "execution_count": 13,
      "outputs": []
    },
    {
      "cell_type": "code",
      "source": [
        "dataframe = pd.read_csv(\"data.csv\")"
      ],
      "metadata": {
        "id": "ziI8N2-0Rwi3"
      },
      "execution_count": 16,
      "outputs": []
    },
    {
      "cell_type": "code",
      "source": [
        "dataframe"
      ],
      "metadata": {
        "id": "3ZJtb_U4Rwln",
        "colab": {
          "base_uri": "https://localhost:8080/",
          "height": 424
        },
        "outputId": "2c7f4530-fe65-4af9-bde6-ba0f35fcfe56"
      },
      "execution_count": null,
      "outputs": [
        {
          "output_type": "execute_result",
          "data": {
            "text/plain": [
              "      InvoiceNo StockCode                          Description  Quantity  \\\n",
              "0        536365    85123A   WHITE HANGING HEART T-LIGHT HOLDER         6   \n",
              "1        536365     71053                  WHITE METAL LANTERN         6   \n",
              "2        536365    84406B       CREAM CUPID HEARTS COAT HANGER         8   \n",
              "3        536365    84029G  KNITTED UNION FLAG HOT WATER BOTTLE         6   \n",
              "4        536365    84029E       RED WOOLLY HOTTIE WHITE HEART.         6   \n",
              "...         ...       ...                                  ...       ...   \n",
              "25010    538351     22149           FELTCRAFT 6 FLOWER FRIENDS        23   \n",
              "25011    538351     22150             3 STRIPEY MICE FELTCRAFT         1   \n",
              "25012    538351     22174                           PHOTO CUBE         4   \n",
              "25013    538351     22326  ROUND SNACK BOXES SET OF4 WOODLAND          1   \n",
              "25014    538351     22327    ROUND SNACK BOXES SET OF 4 SKULLS         2   \n",
              "\n",
              "            InvoiceDate  UnitPrice  CustomerID         Country  \n",
              "0        12/1/2010 8:26       2.55     17850.0  United Kingdom  \n",
              "1        12/1/2010 8:26       3.39     17850.0  United Kingdom  \n",
              "2        12/1/2010 8:26       2.75     17850.0  United Kingdom  \n",
              "3        12/1/2010 8:26       3.39     17850.0  United Kingdom  \n",
              "4        12/1/2010 8:26       3.39     17850.0  United Kingdom  \n",
              "...                 ...        ...         ...             ...  \n",
              "25010  12/10/2010 15:17       5.06         NaN  United Kingdom  \n",
              "25011  12/10/2010 15:17       5.06         NaN  United Kingdom  \n",
              "25012  12/10/2010 15:17       4.21         NaN  United Kingdom  \n",
              "25013  12/10/2010 15:17       6.77         NaN  United Kingdom  \n",
              "25014  12/10/2010 15:17       6.77         NaN         United   \n",
              "\n",
              "[25015 rows x 8 columns]"
            ],
            "text/html": [
              "\n",
              "  <div id=\"df-ee2760ee-0392-4f92-9963-6bced7b01657\">\n",
              "    <div class=\"colab-df-container\">\n",
              "      <div>\n",
              "<style scoped>\n",
              "    .dataframe tbody tr th:only-of-type {\n",
              "        vertical-align: middle;\n",
              "    }\n",
              "\n",
              "    .dataframe tbody tr th {\n",
              "        vertical-align: top;\n",
              "    }\n",
              "\n",
              "    .dataframe thead th {\n",
              "        text-align: right;\n",
              "    }\n",
              "</style>\n",
              "<table border=\"1\" class=\"dataframe\">\n",
              "  <thead>\n",
              "    <tr style=\"text-align: right;\">\n",
              "      <th></th>\n",
              "      <th>InvoiceNo</th>\n",
              "      <th>StockCode</th>\n",
              "      <th>Description</th>\n",
              "      <th>Quantity</th>\n",
              "      <th>InvoiceDate</th>\n",
              "      <th>UnitPrice</th>\n",
              "      <th>CustomerID</th>\n",
              "      <th>Country</th>\n",
              "    </tr>\n",
              "  </thead>\n",
              "  <tbody>\n",
              "    <tr>\n",
              "      <th>0</th>\n",
              "      <td>536365</td>\n",
              "      <td>85123A</td>\n",
              "      <td>WHITE HANGING HEART T-LIGHT HOLDER</td>\n",
              "      <td>6</td>\n",
              "      <td>12/1/2010 8:26</td>\n",
              "      <td>2.55</td>\n",
              "      <td>17850.0</td>\n",
              "      <td>United Kingdom</td>\n",
              "    </tr>\n",
              "    <tr>\n",
              "      <th>1</th>\n",
              "      <td>536365</td>\n",
              "      <td>71053</td>\n",
              "      <td>WHITE METAL LANTERN</td>\n",
              "      <td>6</td>\n",
              "      <td>12/1/2010 8:26</td>\n",
              "      <td>3.39</td>\n",
              "      <td>17850.0</td>\n",
              "      <td>United Kingdom</td>\n",
              "    </tr>\n",
              "    <tr>\n",
              "      <th>2</th>\n",
              "      <td>536365</td>\n",
              "      <td>84406B</td>\n",
              "      <td>CREAM CUPID HEARTS COAT HANGER</td>\n",
              "      <td>8</td>\n",
              "      <td>12/1/2010 8:26</td>\n",
              "      <td>2.75</td>\n",
              "      <td>17850.0</td>\n",
              "      <td>United Kingdom</td>\n",
              "    </tr>\n",
              "    <tr>\n",
              "      <th>3</th>\n",
              "      <td>536365</td>\n",
              "      <td>84029G</td>\n",
              "      <td>KNITTED UNION FLAG HOT WATER BOTTLE</td>\n",
              "      <td>6</td>\n",
              "      <td>12/1/2010 8:26</td>\n",
              "      <td>3.39</td>\n",
              "      <td>17850.0</td>\n",
              "      <td>United Kingdom</td>\n",
              "    </tr>\n",
              "    <tr>\n",
              "      <th>4</th>\n",
              "      <td>536365</td>\n",
              "      <td>84029E</td>\n",
              "      <td>RED WOOLLY HOTTIE WHITE HEART.</td>\n",
              "      <td>6</td>\n",
              "      <td>12/1/2010 8:26</td>\n",
              "      <td>3.39</td>\n",
              "      <td>17850.0</td>\n",
              "      <td>United Kingdom</td>\n",
              "    </tr>\n",
              "    <tr>\n",
              "      <th>...</th>\n",
              "      <td>...</td>\n",
              "      <td>...</td>\n",
              "      <td>...</td>\n",
              "      <td>...</td>\n",
              "      <td>...</td>\n",
              "      <td>...</td>\n",
              "      <td>...</td>\n",
              "      <td>...</td>\n",
              "    </tr>\n",
              "    <tr>\n",
              "      <th>25010</th>\n",
              "      <td>538351</td>\n",
              "      <td>22149</td>\n",
              "      <td>FELTCRAFT 6 FLOWER FRIENDS</td>\n",
              "      <td>23</td>\n",
              "      <td>12/10/2010 15:17</td>\n",
              "      <td>5.06</td>\n",
              "      <td>NaN</td>\n",
              "      <td>United Kingdom</td>\n",
              "    </tr>\n",
              "    <tr>\n",
              "      <th>25011</th>\n",
              "      <td>538351</td>\n",
              "      <td>22150</td>\n",
              "      <td>3 STRIPEY MICE FELTCRAFT</td>\n",
              "      <td>1</td>\n",
              "      <td>12/10/2010 15:17</td>\n",
              "      <td>5.06</td>\n",
              "      <td>NaN</td>\n",
              "      <td>United Kingdom</td>\n",
              "    </tr>\n",
              "    <tr>\n",
              "      <th>25012</th>\n",
              "      <td>538351</td>\n",
              "      <td>22174</td>\n",
              "      <td>PHOTO CUBE</td>\n",
              "      <td>4</td>\n",
              "      <td>12/10/2010 15:17</td>\n",
              "      <td>4.21</td>\n",
              "      <td>NaN</td>\n",
              "      <td>United Kingdom</td>\n",
              "    </tr>\n",
              "    <tr>\n",
              "      <th>25013</th>\n",
              "      <td>538351</td>\n",
              "      <td>22326</td>\n",
              "      <td>ROUND SNACK BOXES SET OF4 WOODLAND</td>\n",
              "      <td>1</td>\n",
              "      <td>12/10/2010 15:17</td>\n",
              "      <td>6.77</td>\n",
              "      <td>NaN</td>\n",
              "      <td>United Kingdom</td>\n",
              "    </tr>\n",
              "    <tr>\n",
              "      <th>25014</th>\n",
              "      <td>538351</td>\n",
              "      <td>22327</td>\n",
              "      <td>ROUND SNACK BOXES SET OF 4 SKULLS</td>\n",
              "      <td>2</td>\n",
              "      <td>12/10/2010 15:17</td>\n",
              "      <td>6.77</td>\n",
              "      <td>NaN</td>\n",
              "      <td>United</td>\n",
              "    </tr>\n",
              "  </tbody>\n",
              "</table>\n",
              "<p>25015 rows × 8 columns</p>\n",
              "</div>\n",
              "      <button class=\"colab-df-convert\" onclick=\"convertToInteractive('df-ee2760ee-0392-4f92-9963-6bced7b01657')\"\n",
              "              title=\"Convert this dataframe to an interactive table.\"\n",
              "              style=\"display:none;\">\n",
              "        \n",
              "  <svg xmlns=\"http://www.w3.org/2000/svg\" height=\"24px\"viewBox=\"0 0 24 24\"\n",
              "       width=\"24px\">\n",
              "    <path d=\"M0 0h24v24H0V0z\" fill=\"none\"/>\n",
              "    <path d=\"M18.56 5.44l.94 2.06.94-2.06 2.06-.94-2.06-.94-.94-2.06-.94 2.06-2.06.94zm-11 1L8.5 8.5l.94-2.06 2.06-.94-2.06-.94L8.5 2.5l-.94 2.06-2.06.94zm10 10l.94 2.06.94-2.06 2.06-.94-2.06-.94-.94-2.06-.94 2.06-2.06.94z\"/><path d=\"M17.41 7.96l-1.37-1.37c-.4-.4-.92-.59-1.43-.59-.52 0-1.04.2-1.43.59L10.3 9.45l-7.72 7.72c-.78.78-.78 2.05 0 2.83L4 21.41c.39.39.9.59 1.41.59.51 0 1.02-.2 1.41-.59l7.78-7.78 2.81-2.81c.8-.78.8-2.07 0-2.86zM5.41 20L4 18.59l7.72-7.72 1.47 1.35L5.41 20z\"/>\n",
              "  </svg>\n",
              "      </button>\n",
              "      \n",
              "  <style>\n",
              "    .colab-df-container {\n",
              "      display:flex;\n",
              "      flex-wrap:wrap;\n",
              "      gap: 12px;\n",
              "    }\n",
              "\n",
              "    .colab-df-convert {\n",
              "      background-color: #E8F0FE;\n",
              "      border: none;\n",
              "      border-radius: 50%;\n",
              "      cursor: pointer;\n",
              "      display: none;\n",
              "      fill: #1967D2;\n",
              "      height: 32px;\n",
              "      padding: 0 0 0 0;\n",
              "      width: 32px;\n",
              "    }\n",
              "\n",
              "    .colab-df-convert:hover {\n",
              "      background-color: #E2EBFA;\n",
              "      box-shadow: 0px 1px 2px rgba(60, 64, 67, 0.3), 0px 1px 3px 1px rgba(60, 64, 67, 0.15);\n",
              "      fill: #174EA6;\n",
              "    }\n",
              "\n",
              "    [theme=dark] .colab-df-convert {\n",
              "      background-color: #3B4455;\n",
              "      fill: #D2E3FC;\n",
              "    }\n",
              "\n",
              "    [theme=dark] .colab-df-convert:hover {\n",
              "      background-color: #434B5C;\n",
              "      box-shadow: 0px 1px 3px 1px rgba(0, 0, 0, 0.15);\n",
              "      filter: drop-shadow(0px 1px 2px rgba(0, 0, 0, 0.3));\n",
              "      fill: #FFFFFF;\n",
              "    }\n",
              "  </style>\n",
              "\n",
              "      <script>\n",
              "        const buttonEl =\n",
              "          document.querySelector('#df-ee2760ee-0392-4f92-9963-6bced7b01657 button.colab-df-convert');\n",
              "        buttonEl.style.display =\n",
              "          google.colab.kernel.accessAllowed ? 'block' : 'none';\n",
              "\n",
              "        async function convertToInteractive(key) {\n",
              "          const element = document.querySelector('#df-ee2760ee-0392-4f92-9963-6bced7b01657');\n",
              "          const dataTable =\n",
              "            await google.colab.kernel.invokeFunction('convertToInteractive',\n",
              "                                                     [key], {});\n",
              "          if (!dataTable) return;\n",
              "\n",
              "          const docLinkHtml = 'Like what you see? Visit the ' +\n",
              "            '<a target=\"_blank\" href=https://colab.research.google.com/notebooks/data_table.ipynb>data table notebook</a>'\n",
              "            + ' to learn more about interactive tables.';\n",
              "          element.innerHTML = '';\n",
              "          dataTable['output_type'] = 'display_data';\n",
              "          await google.colab.output.renderOutput(dataTable, element);\n",
              "          const docLink = document.createElement('div');\n",
              "          docLink.innerHTML = docLinkHtml;\n",
              "          element.appendChild(docLink);\n",
              "        }\n",
              "      </script>\n",
              "    </div>\n",
              "  </div>\n",
              "  "
            ]
          },
          "metadata": {},
          "execution_count": 16
        }
      ]
    },
    {
      "cell_type": "code",
      "source": [
        "# check if there are any null values; print columnwise number of null values, and its percentage"
      ],
      "metadata": {
        "id": "PkEpDoq7RwpE"
      },
      "execution_count": null,
      "outputs": []
    },
    {
      "cell_type": "code",
      "source": [
        "dataframe.isnull().sum()"
      ],
      "metadata": {
        "id": "x6HL80J-ET5R",
        "colab": {
          "base_uri": "https://localhost:8080/"
        },
        "outputId": "14b40ab7-f3cc-4a64-c690-490e9ae7fbbf"
      },
      "execution_count": 22,
      "outputs": [
        {
          "output_type": "execute_result",
          "data": {
            "text/plain": [
              "907000"
            ]
          },
          "metadata": {},
          "execution_count": 22
        }
      ]
    },
    {
      "cell_type": "code",
      "source": [
        "# how would you handle this null data points? - write in short..\n"
      ],
      "metadata": {
        "id": "TtUyu3g0Ezlp"
      },
      "execution_count": null,
      "outputs": []
    },
    {
      "cell_type": "code",
      "source": [
        "#write here.\n",
        "\n"
      ],
      "metadata": {
        "id": "lhkq8h9hxQ7h"
      },
      "execution_count": null,
      "outputs": []
    },
    {
      "cell_type": "code",
      "source": [
        ""
      ],
      "metadata": {
        "id": "B5gj5wuh1_PM"
      },
      "execution_count": null,
      "outputs": []
    },
    {
      "cell_type": "code",
      "source": [
        "# print list of all different countries and number of times it appeared in `Country` column  ; Also plot a count plot for `Country` column.\n"
      ],
      "metadata": {
        "id": "-YjHEo1-E_5u",
        "colab": {
          "base_uri": "https://localhost:8080/"
        },
        "outputId": "c2850871-e66c-4fbe-befb-d1c737bab506"
      },
      "execution_count": null,
      "outputs": [
        {
          "output_type": "execute_result",
          "data": {
            "text/plain": [
              "United Kingdom     23709\n",
              "Germany              309\n",
              "France               287\n",
              "EIRE                 228\n",
              "Norway               147\n",
              "Portugal              94\n",
              "Spain                 45\n",
              "Lithuania             35\n",
              "Iceland               31\n",
              "Italy                 25\n",
              "Australia             22\n",
              "Denmark               20\n",
              "Channel Islands       17\n",
              "Japan                 17\n",
              "Belgium               12\n",
              "Poland                 8\n",
              "Switzerland            6\n",
              "Netherlands            2\n",
              "United                 1\n",
              "Name: Country, dtype: int64"
            ]
          },
          "metadata": {},
          "execution_count": 17
        }
      ]
    },
    {
      "cell_type": "code",
      "source": [
        "#write code here for plotting.\n"
      ],
      "metadata": {
        "id": "4X5SzAAjUhzJ"
      },
      "execution_count": null,
      "outputs": []
    },
    {
      "cell_type": "code",
      "source": [
        ""
      ],
      "metadata": {
        "id": "Z0z4ITqfyEWc"
      },
      "execution_count": null,
      "outputs": []
    },
    {
      "cell_type": "code",
      "source": [
        "#dataframe where country value correspond to \"United Kingdom\" \n",
        "#dont run this cell\n",
        "british_dataframe "
      ],
      "metadata": {
        "colab": {
          "base_uri": "https://localhost:8080/",
          "height": 423
        },
        "id": "mQZG-BPzGNHV",
        "outputId": "7c11b1dc-e184-48be-97ba-ca3f0042d869"
      },
      "execution_count": null,
      "outputs": [
        {
          "output_type": "execute_result",
          "data": {
            "text/plain": [
              "      InvoiceNo StockCode                          Description  Quantity  \\\n",
              "0        536365    85123A   WHITE HANGING HEART T-LIGHT HOLDER       6.0   \n",
              "1        536365     71053                  WHITE METAL LANTERN       6.0   \n",
              "2        536365    84406B       CREAM CUPID HEARTS COAT HANGER       8.0   \n",
              "3        536365    84029G  KNITTED UNION FLAG HOT WATER BOTTLE       6.0   \n",
              "4        536365    84029E       RED WOOLLY HOTTIE WHITE HEART.       6.0   \n",
              "...         ...       ...                                  ...       ...   \n",
              "12456    537381     22865               HAND WARMER OWL DESIGN      10.0   \n",
              "12457    537381     22632            HAND WARMER RED RETROSPOT      24.0   \n",
              "12458    537381     22633               HAND WARMER UNION JACK      20.0   \n",
              "12459    537381     22867              HAND WARMER BIRD DESIGN      24.0   \n",
              "12460    537381     22601       CHRISTMAS RETROSPOT ANGEL WOOD      17.0   \n",
              "\n",
              "           InvoiceDate  UnitPrice  CustomerID         Country  \n",
              "0       12/1/2010 8:26       2.55     17850.0  United Kingdom  \n",
              "1       12/1/2010 8:26       3.39     17850.0  United Kingdom  \n",
              "2       12/1/2010 8:26       2.75     17850.0  United Kingdom  \n",
              "3       12/1/2010 8:26       3.39     17850.0  United Kingdom  \n",
              "4       12/1/2010 8:26       3.39     17850.0  United Kingdom  \n",
              "...                ...        ...         ...             ...  \n",
              "12456  12/6/2010 13:13       2.10     14667.0  United Kingdom  \n",
              "12457  12/6/2010 13:13       2.10     14667.0  United Kingdom  \n",
              "12458  12/6/2010 13:13       2.10     14667.0  United Kingdom  \n",
              "12459  12/6/2010 13:13       2.10     14667.0  United Kingdom  \n",
              "12460  12/6/2010 13:13       0.85     14667.0  United Kingdom  \n",
              "\n",
              "[11806 rows x 8 columns]"
            ],
            "text/html": [
              "\n",
              "  <div id=\"df-5a58751a-4542-4c31-ae09-e8daee85870d\">\n",
              "    <div class=\"colab-df-container\">\n",
              "      <div>\n",
              "<style scoped>\n",
              "    .dataframe tbody tr th:only-of-type {\n",
              "        vertical-align: middle;\n",
              "    }\n",
              "\n",
              "    .dataframe tbody tr th {\n",
              "        vertical-align: top;\n",
              "    }\n",
              "\n",
              "    .dataframe thead th {\n",
              "        text-align: right;\n",
              "    }\n",
              "</style>\n",
              "<table border=\"1\" class=\"dataframe\">\n",
              "  <thead>\n",
              "    <tr style=\"text-align: right;\">\n",
              "      <th></th>\n",
              "      <th>InvoiceNo</th>\n",
              "      <th>StockCode</th>\n",
              "      <th>Description</th>\n",
              "      <th>Quantity</th>\n",
              "      <th>InvoiceDate</th>\n",
              "      <th>UnitPrice</th>\n",
              "      <th>CustomerID</th>\n",
              "      <th>Country</th>\n",
              "    </tr>\n",
              "  </thead>\n",
              "  <tbody>\n",
              "    <tr>\n",
              "      <th>0</th>\n",
              "      <td>536365</td>\n",
              "      <td>85123A</td>\n",
              "      <td>WHITE HANGING HEART T-LIGHT HOLDER</td>\n",
              "      <td>6.0</td>\n",
              "      <td>12/1/2010 8:26</td>\n",
              "      <td>2.55</td>\n",
              "      <td>17850.0</td>\n",
              "      <td>United Kingdom</td>\n",
              "    </tr>\n",
              "    <tr>\n",
              "      <th>1</th>\n",
              "      <td>536365</td>\n",
              "      <td>71053</td>\n",
              "      <td>WHITE METAL LANTERN</td>\n",
              "      <td>6.0</td>\n",
              "      <td>12/1/2010 8:26</td>\n",
              "      <td>3.39</td>\n",
              "      <td>17850.0</td>\n",
              "      <td>United Kingdom</td>\n",
              "    </tr>\n",
              "    <tr>\n",
              "      <th>2</th>\n",
              "      <td>536365</td>\n",
              "      <td>84406B</td>\n",
              "      <td>CREAM CUPID HEARTS COAT HANGER</td>\n",
              "      <td>8.0</td>\n",
              "      <td>12/1/2010 8:26</td>\n",
              "      <td>2.75</td>\n",
              "      <td>17850.0</td>\n",
              "      <td>United Kingdom</td>\n",
              "    </tr>\n",
              "    <tr>\n",
              "      <th>3</th>\n",
              "      <td>536365</td>\n",
              "      <td>84029G</td>\n",
              "      <td>KNITTED UNION FLAG HOT WATER BOTTLE</td>\n",
              "      <td>6.0</td>\n",
              "      <td>12/1/2010 8:26</td>\n",
              "      <td>3.39</td>\n",
              "      <td>17850.0</td>\n",
              "      <td>United Kingdom</td>\n",
              "    </tr>\n",
              "    <tr>\n",
              "      <th>4</th>\n",
              "      <td>536365</td>\n",
              "      <td>84029E</td>\n",
              "      <td>RED WOOLLY HOTTIE WHITE HEART.</td>\n",
              "      <td>6.0</td>\n",
              "      <td>12/1/2010 8:26</td>\n",
              "      <td>3.39</td>\n",
              "      <td>17850.0</td>\n",
              "      <td>United Kingdom</td>\n",
              "    </tr>\n",
              "    <tr>\n",
              "      <th>...</th>\n",
              "      <td>...</td>\n",
              "      <td>...</td>\n",
              "      <td>...</td>\n",
              "      <td>...</td>\n",
              "      <td>...</td>\n",
              "      <td>...</td>\n",
              "      <td>...</td>\n",
              "      <td>...</td>\n",
              "    </tr>\n",
              "    <tr>\n",
              "      <th>12456</th>\n",
              "      <td>537381</td>\n",
              "      <td>22865</td>\n",
              "      <td>HAND WARMER OWL DESIGN</td>\n",
              "      <td>10.0</td>\n",
              "      <td>12/6/2010 13:13</td>\n",
              "      <td>2.10</td>\n",
              "      <td>14667.0</td>\n",
              "      <td>United Kingdom</td>\n",
              "    </tr>\n",
              "    <tr>\n",
              "      <th>12457</th>\n",
              "      <td>537381</td>\n",
              "      <td>22632</td>\n",
              "      <td>HAND WARMER RED RETROSPOT</td>\n",
              "      <td>24.0</td>\n",
              "      <td>12/6/2010 13:13</td>\n",
              "      <td>2.10</td>\n",
              "      <td>14667.0</td>\n",
              "      <td>United Kingdom</td>\n",
              "    </tr>\n",
              "    <tr>\n",
              "      <th>12458</th>\n",
              "      <td>537381</td>\n",
              "      <td>22633</td>\n",
              "      <td>HAND WARMER UNION JACK</td>\n",
              "      <td>20.0</td>\n",
              "      <td>12/6/2010 13:13</td>\n",
              "      <td>2.10</td>\n",
              "      <td>14667.0</td>\n",
              "      <td>United Kingdom</td>\n",
              "    </tr>\n",
              "    <tr>\n",
              "      <th>12459</th>\n",
              "      <td>537381</td>\n",
              "      <td>22867</td>\n",
              "      <td>HAND WARMER BIRD DESIGN</td>\n",
              "      <td>24.0</td>\n",
              "      <td>12/6/2010 13:13</td>\n",
              "      <td>2.10</td>\n",
              "      <td>14667.0</td>\n",
              "      <td>United Kingdom</td>\n",
              "    </tr>\n",
              "    <tr>\n",
              "      <th>12460</th>\n",
              "      <td>537381</td>\n",
              "      <td>22601</td>\n",
              "      <td>CHRISTMAS RETROSPOT ANGEL WOOD</td>\n",
              "      <td>17.0</td>\n",
              "      <td>12/6/2010 13:13</td>\n",
              "      <td>0.85</td>\n",
              "      <td>14667.0</td>\n",
              "      <td>United Kingdom</td>\n",
              "    </tr>\n",
              "  </tbody>\n",
              "</table>\n",
              "<p>11806 rows × 8 columns</p>\n",
              "</div>\n",
              "      <button class=\"colab-df-convert\" onclick=\"convertToInteractive('df-5a58751a-4542-4c31-ae09-e8daee85870d')\"\n",
              "              title=\"Convert this dataframe to an interactive table.\"\n",
              "              style=\"display:none;\">\n",
              "        \n",
              "  <svg xmlns=\"http://www.w3.org/2000/svg\" height=\"24px\"viewBox=\"0 0 24 24\"\n",
              "       width=\"24px\">\n",
              "    <path d=\"M0 0h24v24H0V0z\" fill=\"none\"/>\n",
              "    <path d=\"M18.56 5.44l.94 2.06.94-2.06 2.06-.94-2.06-.94-.94-2.06-.94 2.06-2.06.94zm-11 1L8.5 8.5l.94-2.06 2.06-.94-2.06-.94L8.5 2.5l-.94 2.06-2.06.94zm10 10l.94 2.06.94-2.06 2.06-.94-2.06-.94-.94-2.06-.94 2.06-2.06.94z\"/><path d=\"M17.41 7.96l-1.37-1.37c-.4-.4-.92-.59-1.43-.59-.52 0-1.04.2-1.43.59L10.3 9.45l-7.72 7.72c-.78.78-.78 2.05 0 2.83L4 21.41c.39.39.9.59 1.41.59.51 0 1.02-.2 1.41-.59l7.78-7.78 2.81-2.81c.8-.78.8-2.07 0-2.86zM5.41 20L4 18.59l7.72-7.72 1.47 1.35L5.41 20z\"/>\n",
              "  </svg>\n",
              "      </button>\n",
              "      \n",
              "  <style>\n",
              "    .colab-df-container {\n",
              "      display:flex;\n",
              "      flex-wrap:wrap;\n",
              "      gap: 12px;\n",
              "    }\n",
              "\n",
              "    .colab-df-convert {\n",
              "      background-color: #E8F0FE;\n",
              "      border: none;\n",
              "      border-radius: 50%;\n",
              "      cursor: pointer;\n",
              "      display: none;\n",
              "      fill: #1967D2;\n",
              "      height: 32px;\n",
              "      padding: 0 0 0 0;\n",
              "      width: 32px;\n",
              "    }\n",
              "\n",
              "    .colab-df-convert:hover {\n",
              "      background-color: #E2EBFA;\n",
              "      box-shadow: 0px 1px 2px rgba(60, 64, 67, 0.3), 0px 1px 3px 1px rgba(60, 64, 67, 0.15);\n",
              "      fill: #174EA6;\n",
              "    }\n",
              "\n",
              "    [theme=dark] .colab-df-convert {\n",
              "      background-color: #3B4455;\n",
              "      fill: #D2E3FC;\n",
              "    }\n",
              "\n",
              "    [theme=dark] .colab-df-convert:hover {\n",
              "      background-color: #434B5C;\n",
              "      box-shadow: 0px 1px 3px 1px rgba(0, 0, 0, 0.15);\n",
              "      filter: drop-shadow(0px 1px 2px rgba(0, 0, 0, 0.3));\n",
              "      fill: #FFFFFF;\n",
              "    }\n",
              "  </style>\n",
              "\n",
              "      <script>\n",
              "        const buttonEl =\n",
              "          document.querySelector('#df-5a58751a-4542-4c31-ae09-e8daee85870d button.colab-df-convert');\n",
              "        buttonEl.style.display =\n",
              "          google.colab.kernel.accessAllowed ? 'block' : 'none';\n",
              "\n",
              "        async function convertToInteractive(key) {\n",
              "          const element = document.querySelector('#df-5a58751a-4542-4c31-ae09-e8daee85870d');\n",
              "          const dataTable =\n",
              "            await google.colab.kernel.invokeFunction('convertToInteractive',\n",
              "                                                     [key], {});\n",
              "          if (!dataTable) return;\n",
              "\n",
              "          const docLinkHtml = 'Like what you see? Visit the ' +\n",
              "            '<a target=\"_blank\" href=https://colab.research.google.com/notebooks/data_table.ipynb>data table notebook</a>'\n",
              "            + ' to learn more about interactive tables.';\n",
              "          element.innerHTML = '';\n",
              "          dataTable['output_type'] = 'display_data';\n",
              "          await google.colab.output.renderOutput(dataTable, element);\n",
              "          const docLink = document.createElement('div');\n",
              "          docLink.innerHTML = docLinkHtml;\n",
              "          element.appendChild(docLink);\n",
              "        }\n",
              "      </script>\n",
              "    </div>\n",
              "  </div>\n",
              "  "
            ]
          },
          "metadata": {},
          "execution_count": 20
        }
      ]
    },
    {
      "cell_type": "code",
      "source": [
        ""
      ],
      "metadata": {
        "id": "zGpLHvW_HQOO"
      },
      "execution_count": null,
      "outputs": []
    },
    {
      "cell_type": "code",
      "source": [
        "# now as every entry in \"country\" column of british_dataframe is same (\"United Kingdom\"); we can just remove the column \n",
        "#as it is not providing much information to us"
      ],
      "metadata": {
        "id": "moQc-Z3dG-lX"
      },
      "execution_count": null,
      "outputs": []
    },
    {
      "cell_type": "code",
      "source": [
        "#drop country column of `british_dataframe`"
      ],
      "metadata": {
        "id": "AMgN1Y0pHinZ"
      },
      "execution_count": null,
      "outputs": []
    },
    {
      "cell_type": "code",
      "source": [
        ""
      ],
      "metadata": {
        "id": "TQ_YMrEaUszp"
      },
      "execution_count": null,
      "outputs": []
    },
    {
      "cell_type": "code",
      "source": [
        "#Now make dataframe containing countries other than UK, name the dataframe as non_british_dataframe"
      ],
      "metadata": {
        "id": "jkE9N3pSUs4p"
      },
      "execution_count": null,
      "outputs": []
    },
    {
      "cell_type": "code",
      "source": [
        ""
      ],
      "metadata": {
        "id": "lOELxnkeHp09"
      },
      "execution_count": null,
      "outputs": []
    },
    {
      "cell_type": "code",
      "source": [
        ""
      ],
      "metadata": {
        "id": "-u1a588VVt78"
      },
      "execution_count": null,
      "outputs": []
    },
    {
      "cell_type": "code",
      "source": [
        "#remove the row which has null entry in `Country` Column; \n",
        "#dont remove the rows which have null values in column other than `Country`\n"
      ],
      "metadata": {
        "id": "Hw1JCERuItRz"
      },
      "execution_count": null,
      "outputs": []
    },
    {
      "cell_type": "code",
      "source": [
        "#write code here. "
      ],
      "metadata": {
        "id": "czdzxcGVU_Na"
      },
      "execution_count": null,
      "outputs": []
    },
    {
      "cell_type": "code",
      "source": [
        ""
      ],
      "metadata": {
        "id": "wInNktUNVCCR"
      },
      "execution_count": null,
      "outputs": []
    },
    {
      "cell_type": "code",
      "source": [
        ""
      ],
      "metadata": {
        "id": "gYyl1Rv7VCHE"
      },
      "execution_count": null,
      "outputs": []
    },
    {
      "cell_type": "code",
      "source": [
        "\n",
        "#now we want you to sort the dataframe acccording to the \"UnitPrice\" column; sorting should be descending\n",
        "#if there is a tie/ same value use quantity as tie-braker. \n"
      ],
      "metadata": {
        "id": "fav6CMtaHp4Z"
      },
      "execution_count": null,
      "outputs": []
    },
    {
      "cell_type": "code",
      "source": [
        ""
      ],
      "metadata": {
        "id": "zqyF32DvIEnY"
      },
      "execution_count": null,
      "outputs": []
    },
    {
      "cell_type": "code",
      "source": [
        ""
      ],
      "metadata": {
        "id": "Ir8KmbC_Vy3Z"
      },
      "execution_count": null,
      "outputs": []
    },
    {
      "cell_type": "code",
      "source": [
        "# find the mean, maximum and minimum  of unit price based on country ; hint - use `groupby` operation\n"
      ],
      "metadata": {
        "id": "EgJLvGoZVzEb"
      },
      "execution_count": null,
      "outputs": []
    },
    {
      "cell_type": "code",
      "source": [
        ""
      ],
      "metadata": {
        "id": "SYqYuNcLWRtd"
      },
      "execution_count": null,
      "outputs": []
    }
  ]
}